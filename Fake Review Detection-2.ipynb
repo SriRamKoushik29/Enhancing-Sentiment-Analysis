{
 "cells": [
  {
   "cell_type": "markdown",
   "id": "0236c737",
   "metadata": {},
   "source": [
    "FAKE REVIEW DETECTION"
   ]
  },
  {
   "cell_type": "code",
   "execution_count": 1,
   "id": "dc0adb3b",
   "metadata": {},
   "outputs": [],
   "source": [
    "import pandas as pd\n",
    "import numpy as np\n",
    "from sklearn.model_selection import train_test_split\n",
    "from sklearn.metrics import classification_report\n",
    "import re\n",
    "import string\n",
    "import matplotlib.pyplot as plt"
   ]
  },
  {
   "cell_type": "code",
   "execution_count": 2,
   "id": "144ecfa8",
   "metadata": {},
   "outputs": [],
   "source": [
    "data = pd.read_csv(\"fake reviews dataset.csv\")"
   ]
  },
  {
   "cell_type": "code",
   "execution_count": 3,
   "id": "3b432174",
   "metadata": {
    "scrolled": true
   },
   "outputs": [
    {
     "data": {
      "text/html": [
       "<div>\n",
       "<style scoped>\n",
       "    .dataframe tbody tr th:only-of-type {\n",
       "        vertical-align: middle;\n",
       "    }\n",
       "\n",
       "    .dataframe tbody tr th {\n",
       "        vertical-align: top;\n",
       "    }\n",
       "\n",
       "    .dataframe thead th {\n",
       "        text-align: right;\n",
       "    }\n",
       "</style>\n",
       "<table border=\"1\" class=\"dataframe\">\n",
       "  <thead>\n",
       "    <tr style=\"text-align: right;\">\n",
       "      <th></th>\n",
       "      <th>category</th>\n",
       "      <th>rating</th>\n",
       "      <th>label</th>\n",
       "      <th>text_</th>\n",
       "    </tr>\n",
       "  </thead>\n",
       "  <tbody>\n",
       "    <tr>\n",
       "      <th>0</th>\n",
       "      <td>Home_and_Kitchen_5</td>\n",
       "      <td>5.0</td>\n",
       "      <td>CG</td>\n",
       "      <td>Love this!  Well made, sturdy, and very comfor...</td>\n",
       "    </tr>\n",
       "    <tr>\n",
       "      <th>1</th>\n",
       "      <td>Home_and_Kitchen_5</td>\n",
       "      <td>5.0</td>\n",
       "      <td>CG</td>\n",
       "      <td>love it, a great upgrade from the original.  I...</td>\n",
       "    </tr>\n",
       "    <tr>\n",
       "      <th>2</th>\n",
       "      <td>Home_and_Kitchen_5</td>\n",
       "      <td>5.0</td>\n",
       "      <td>CG</td>\n",
       "      <td>This pillow saved my back. I love the look and...</td>\n",
       "    </tr>\n",
       "    <tr>\n",
       "      <th>3</th>\n",
       "      <td>Home_and_Kitchen_5</td>\n",
       "      <td>1.0</td>\n",
       "      <td>CG</td>\n",
       "      <td>Missing information on how to use it, but it i...</td>\n",
       "    </tr>\n",
       "    <tr>\n",
       "      <th>4</th>\n",
       "      <td>Home_and_Kitchen_5</td>\n",
       "      <td>5.0</td>\n",
       "      <td>CG</td>\n",
       "      <td>Very nice set. Good quality. We have had the s...</td>\n",
       "    </tr>\n",
       "    <tr>\n",
       "      <th>5</th>\n",
       "      <td>Home_and_Kitchen_5</td>\n",
       "      <td>3.0</td>\n",
       "      <td>CG</td>\n",
       "      <td>I WANTED DIFFERENT FLAVORS BUT THEY ARE NOT.</td>\n",
       "    </tr>\n",
       "    <tr>\n",
       "      <th>6</th>\n",
       "      <td>Home_and_Kitchen_5</td>\n",
       "      <td>5.0</td>\n",
       "      <td>CG</td>\n",
       "      <td>They are the perfect touch for me and the only...</td>\n",
       "    </tr>\n",
       "    <tr>\n",
       "      <th>7</th>\n",
       "      <td>Home_and_Kitchen_5</td>\n",
       "      <td>3.0</td>\n",
       "      <td>CG</td>\n",
       "      <td>These done fit well and look great.  I love th...</td>\n",
       "    </tr>\n",
       "    <tr>\n",
       "      <th>8</th>\n",
       "      <td>Home_and_Kitchen_5</td>\n",
       "      <td>5.0</td>\n",
       "      <td>CG</td>\n",
       "      <td>Great big numbers &amp; easy to read, the only thi...</td>\n",
       "    </tr>\n",
       "    <tr>\n",
       "      <th>9</th>\n",
       "      <td>Home_and_Kitchen_5</td>\n",
       "      <td>5.0</td>\n",
       "      <td>CG</td>\n",
       "      <td>My son loves this comforter and it is very wel...</td>\n",
       "    </tr>\n",
       "  </tbody>\n",
       "</table>\n",
       "</div>"
      ],
      "text/plain": [
       "             category  rating label  \\\n",
       "0  Home_and_Kitchen_5     5.0    CG   \n",
       "1  Home_and_Kitchen_5     5.0    CG   \n",
       "2  Home_and_Kitchen_5     5.0    CG   \n",
       "3  Home_and_Kitchen_5     1.0    CG   \n",
       "4  Home_and_Kitchen_5     5.0    CG   \n",
       "5  Home_and_Kitchen_5     3.0    CG   \n",
       "6  Home_and_Kitchen_5     5.0    CG   \n",
       "7  Home_and_Kitchen_5     3.0    CG   \n",
       "8  Home_and_Kitchen_5     5.0    CG   \n",
       "9  Home_and_Kitchen_5     5.0    CG   \n",
       "\n",
       "                                               text_  \n",
       "0  Love this!  Well made, sturdy, and very comfor...  \n",
       "1  love it, a great upgrade from the original.  I...  \n",
       "2  This pillow saved my back. I love the look and...  \n",
       "3  Missing information on how to use it, but it i...  \n",
       "4  Very nice set. Good quality. We have had the s...  \n",
       "5       I WANTED DIFFERENT FLAVORS BUT THEY ARE NOT.  \n",
       "6  They are the perfect touch for me and the only...  \n",
       "7  These done fit well and look great.  I love th...  \n",
       "8  Great big numbers & easy to read, the only thi...  \n",
       "9  My son loves this comforter and it is very wel...  "
      ]
     },
     "execution_count": 3,
     "metadata": {},
     "output_type": "execute_result"
    }
   ],
   "source": [
    "data.head(10)"
   ]
  },
  {
   "cell_type": "code",
   "execution_count": 4,
   "id": "99764603",
   "metadata": {},
   "outputs": [
    {
     "data": {
      "text/html": [
       "<div>\n",
       "<style scoped>\n",
       "    .dataframe tbody tr th:only-of-type {\n",
       "        vertical-align: middle;\n",
       "    }\n",
       "\n",
       "    .dataframe tbody tr th {\n",
       "        vertical-align: top;\n",
       "    }\n",
       "\n",
       "    .dataframe thead th {\n",
       "        text-align: right;\n",
       "    }\n",
       "</style>\n",
       "<table border=\"1\" class=\"dataframe\">\n",
       "  <thead>\n",
       "    <tr style=\"text-align: right;\">\n",
       "      <th></th>\n",
       "      <th>category</th>\n",
       "      <th>rating</th>\n",
       "      <th>label</th>\n",
       "      <th>text_</th>\n",
       "    </tr>\n",
       "  </thead>\n",
       "  <tbody>\n",
       "    <tr>\n",
       "      <th>0</th>\n",
       "      <td>Home_and_Kitchen_5</td>\n",
       "      <td>5.0</td>\n",
       "      <td>CG</td>\n",
       "      <td>Love this!  Well made, sturdy, and very comfor...</td>\n",
       "    </tr>\n",
       "    <tr>\n",
       "      <th>1</th>\n",
       "      <td>Home_and_Kitchen_5</td>\n",
       "      <td>5.0</td>\n",
       "      <td>CG</td>\n",
       "      <td>love it, a great upgrade from the original.  I...</td>\n",
       "    </tr>\n",
       "    <tr>\n",
       "      <th>2</th>\n",
       "      <td>Home_and_Kitchen_5</td>\n",
       "      <td>5.0</td>\n",
       "      <td>CG</td>\n",
       "      <td>This pillow saved my back. I love the look and...</td>\n",
       "    </tr>\n",
       "    <tr>\n",
       "      <th>3</th>\n",
       "      <td>Home_and_Kitchen_5</td>\n",
       "      <td>1.0</td>\n",
       "      <td>CG</td>\n",
       "      <td>Missing information on how to use it, but it i...</td>\n",
       "    </tr>\n",
       "    <tr>\n",
       "      <th>4</th>\n",
       "      <td>Home_and_Kitchen_5</td>\n",
       "      <td>5.0</td>\n",
       "      <td>CG</td>\n",
       "      <td>Very nice set. Good quality. We have had the s...</td>\n",
       "    </tr>\n",
       "    <tr>\n",
       "      <th>5</th>\n",
       "      <td>Home_and_Kitchen_5</td>\n",
       "      <td>3.0</td>\n",
       "      <td>CG</td>\n",
       "      <td>I WANTED DIFFERENT FLAVORS BUT THEY ARE NOT.</td>\n",
       "    </tr>\n",
       "    <tr>\n",
       "      <th>6</th>\n",
       "      <td>Home_and_Kitchen_5</td>\n",
       "      <td>5.0</td>\n",
       "      <td>CG</td>\n",
       "      <td>They are the perfect touch for me and the only...</td>\n",
       "    </tr>\n",
       "    <tr>\n",
       "      <th>7</th>\n",
       "      <td>Home_and_Kitchen_5</td>\n",
       "      <td>3.0</td>\n",
       "      <td>CG</td>\n",
       "      <td>These done fit well and look great.  I love th...</td>\n",
       "    </tr>\n",
       "    <tr>\n",
       "      <th>8</th>\n",
       "      <td>Home_and_Kitchen_5</td>\n",
       "      <td>5.0</td>\n",
       "      <td>CG</td>\n",
       "      <td>Great big numbers &amp; easy to read, the only thi...</td>\n",
       "    </tr>\n",
       "    <tr>\n",
       "      <th>9</th>\n",
       "      <td>Home_and_Kitchen_5</td>\n",
       "      <td>5.0</td>\n",
       "      <td>CG</td>\n",
       "      <td>My son loves this comforter and it is very wel...</td>\n",
       "    </tr>\n",
       "  </tbody>\n",
       "</table>\n",
       "</div>"
      ],
      "text/plain": [
       "             category  rating label  \\\n",
       "0  Home_and_Kitchen_5     5.0    CG   \n",
       "1  Home_and_Kitchen_5     5.0    CG   \n",
       "2  Home_and_Kitchen_5     5.0    CG   \n",
       "3  Home_and_Kitchen_5     1.0    CG   \n",
       "4  Home_and_Kitchen_5     5.0    CG   \n",
       "5  Home_and_Kitchen_5     3.0    CG   \n",
       "6  Home_and_Kitchen_5     5.0    CG   \n",
       "7  Home_and_Kitchen_5     3.0    CG   \n",
       "8  Home_and_Kitchen_5     5.0    CG   \n",
       "9  Home_and_Kitchen_5     5.0    CG   \n",
       "\n",
       "                                               text_  \n",
       "0  Love this!  Well made, sturdy, and very comfor...  \n",
       "1  love it, a great upgrade from the original.  I...  \n",
       "2  This pillow saved my back. I love the look and...  \n",
       "3  Missing information on how to use it, but it i...  \n",
       "4  Very nice set. Good quality. We have had the s...  \n",
       "5       I WANTED DIFFERENT FLAVORS BUT THEY ARE NOT.  \n",
       "6  They are the perfect touch for me and the only...  \n",
       "7  These done fit well and look great.  I love th...  \n",
       "8  Great big numbers & easy to read, the only thi...  \n",
       "9  My son loves this comforter and it is very wel...  "
      ]
     },
     "execution_count": 4,
     "metadata": {},
     "output_type": "execute_result"
    }
   ],
   "source": [
    "readability_data=data\n",
    "readability_data.head(10)"
   ]
  },
  {
   "cell_type": "code",
   "execution_count": 5,
   "id": "43dc7d4e",
   "metadata": {
    "scrolled": true
   },
   "outputs": [],
   "source": [
    "import pandas as pd\n",
    "import textstat\n",
    "\n",
    "# Assuming you have a DataFrame df with columns 'index', 'text_', 'label'\n",
    "\n",
    "# Function to compute readability features\n",
    "def compute_readability_features(text):\n",
    "    return {\n",
    "        \"flesch_reading_ease\": textstat.flesch_reading_ease(text),\n",
    "        \"flesch_kincaid_grade\": textstat.flesch_kincaid_grade(text),\n",
    "        \"coleman_liau_index\": textstat.coleman_liau_index(text),\n",
    "        \"automated_readability_index\": textstat.automated_readability_index(text),\n",
    "        \"smog_index\": textstat.smog_index(text),\n",
    "        \"gunning_fog\": textstat.gunning_fog(text)\n",
    "    }\n",
    "\n",
    "# Apply the readability features function to the 'text_' column\n",
    "readability_features = readability_data['text_'].apply(compute_readability_features)\n",
    "\n",
    "# Convert the features to a DataFrame\n",
    "readability_df = pd.DataFrame(list(readability_features))\n",
    "\n",
    "# Concatenate the original DataFrame with the new readability features DataFrame\n",
    "readability_data = pd.concat([readability_data, readability_df], axis=1)\n",
    "\n",
    "# Display the updated DataFrame\n",
    "#print(df.head())\n"
   ]
  },
  {
   "cell_type": "code",
   "execution_count": 6,
   "id": "eebc76cd",
   "metadata": {
    "scrolled": true
   },
   "outputs": [
    {
     "data": {
      "text/html": [
       "<div>\n",
       "<style scoped>\n",
       "    .dataframe tbody tr th:only-of-type {\n",
       "        vertical-align: middle;\n",
       "    }\n",
       "\n",
       "    .dataframe tbody tr th {\n",
       "        vertical-align: top;\n",
       "    }\n",
       "\n",
       "    .dataframe thead th {\n",
       "        text-align: right;\n",
       "    }\n",
       "</style>\n",
       "<table border=\"1\" class=\"dataframe\">\n",
       "  <thead>\n",
       "    <tr style=\"text-align: right;\">\n",
       "      <th></th>\n",
       "      <th>category</th>\n",
       "      <th>rating</th>\n",
       "      <th>label</th>\n",
       "      <th>text_</th>\n",
       "      <th>flesch_reading_ease</th>\n",
       "      <th>flesch_kincaid_grade</th>\n",
       "      <th>coleman_liau_index</th>\n",
       "      <th>automated_readability_index</th>\n",
       "      <th>smog_index</th>\n",
       "      <th>gunning_fog</th>\n",
       "    </tr>\n",
       "  </thead>\n",
       "  <tbody>\n",
       "    <tr>\n",
       "      <th>4360</th>\n",
       "      <td>Sports_and_Outdoors_5</td>\n",
       "      <td>5.0</td>\n",
       "      <td>CG</td>\n",
       "      <td>Nice product. Use it for a couple of years and...</td>\n",
       "      <td>96.69</td>\n",
       "      <td>1.9</td>\n",
       "      <td>3.15</td>\n",
       "      <td>1.7</td>\n",
       "      <td>0.0</td>\n",
       "      <td>3.40</td>\n",
       "    </tr>\n",
       "    <tr>\n",
       "      <th>10230</th>\n",
       "      <td>Electronics_5</td>\n",
       "      <td>4.0</td>\n",
       "      <td>CG</td>\n",
       "      <td>I hooked it up to my old AC adapter and it wor...</td>\n",
       "      <td>97.40</td>\n",
       "      <td>1.6</td>\n",
       "      <td>2.80</td>\n",
       "      <td>1.5</td>\n",
       "      <td>5.7</td>\n",
       "      <td>4.15</td>\n",
       "    </tr>\n",
       "    <tr>\n",
       "      <th>926</th>\n",
       "      <td>Home_and_Kitchen_5</td>\n",
       "      <td>5.0</td>\n",
       "      <td>OR</td>\n",
       "      <td>Use these every day.  Convenient size and easy...</td>\n",
       "      <td>99.53</td>\n",
       "      <td>0.8</td>\n",
       "      <td>2.77</td>\n",
       "      <td>1.9</td>\n",
       "      <td>6.4</td>\n",
       "      <td>4.63</td>\n",
       "    </tr>\n",
       "    <tr>\n",
       "      <th>38278</th>\n",
       "      <td>Clothing_Shoes_and_Jewelry_5</td>\n",
       "      <td>2.0</td>\n",
       "      <td>OR</td>\n",
       "      <td>I found it too bulky and too hard to use for n...</td>\n",
       "      <td>90.60</td>\n",
       "      <td>4.2</td>\n",
       "      <td>3.12</td>\n",
       "      <td>3.5</td>\n",
       "      <td>0.0</td>\n",
       "      <td>7.18</td>\n",
       "    </tr>\n",
       "    <tr>\n",
       "      <th>38913</th>\n",
       "      <td>Clothing_Shoes_and_Jewelry_5</td>\n",
       "      <td>3.0</td>\n",
       "      <td>CG</td>\n",
       "      <td>I get lots of compliments on it and the materi...</td>\n",
       "      <td>96.01</td>\n",
       "      <td>4.2</td>\n",
       "      <td>0.46</td>\n",
       "      <td>2.7</td>\n",
       "      <td>0.0</td>\n",
       "      <td>9.29</td>\n",
       "    </tr>\n",
       "    <tr>\n",
       "      <th>28035</th>\n",
       "      <td>Kindle_Store_5</td>\n",
       "      <td>3.0</td>\n",
       "      <td>OR</td>\n",
       "      <td>This book was raw with emotion from page 1 and...</td>\n",
       "      <td>86.23</td>\n",
       "      <td>5.9</td>\n",
       "      <td>6.04</td>\n",
       "      <td>7.3</td>\n",
       "      <td>6.8</td>\n",
       "      <td>8.41</td>\n",
       "    </tr>\n",
       "    <tr>\n",
       "      <th>28182</th>\n",
       "      <td>Kindle_Store_5</td>\n",
       "      <td>3.0</td>\n",
       "      <td>CG</td>\n",
       "      <td>This cannot be read first time. The story is v...</td>\n",
       "      <td>86.40</td>\n",
       "      <td>3.8</td>\n",
       "      <td>4.73</td>\n",
       "      <td>3.3</td>\n",
       "      <td>8.0</td>\n",
       "      <td>5.54</td>\n",
       "    </tr>\n",
       "    <tr>\n",
       "      <th>23079</th>\n",
       "      <td>Pet_Supplies_5</td>\n",
       "      <td>2.0</td>\n",
       "      <td>OR</td>\n",
       "      <td>I'm not sure if my cat is not that bright or n...</td>\n",
       "      <td>92.22</td>\n",
       "      <td>3.6</td>\n",
       "      <td>2.94</td>\n",
       "      <td>2.8</td>\n",
       "      <td>6.7</td>\n",
       "      <td>5.78</td>\n",
       "    </tr>\n",
       "    <tr>\n",
       "      <th>30510</th>\n",
       "      <td>Books_5</td>\n",
       "      <td>4.0</td>\n",
       "      <td>OR</td>\n",
       "      <td>This book was long and slow to start.  It seem...</td>\n",
       "      <td>87.72</td>\n",
       "      <td>3.3</td>\n",
       "      <td>5.42</td>\n",
       "      <td>3.5</td>\n",
       "      <td>8.8</td>\n",
       "      <td>7.16</td>\n",
       "    </tr>\n",
       "    <tr>\n",
       "      <th>14743</th>\n",
       "      <td>Movies_and_TV_5</td>\n",
       "      <td>5.0</td>\n",
       "      <td>OR</td>\n",
       "      <td>I decided to pick this boxset because of my gr...</td>\n",
       "      <td>84.27</td>\n",
       "      <td>4.6</td>\n",
       "      <td>5.61</td>\n",
       "      <td>4.8</td>\n",
       "      <td>7.2</td>\n",
       "      <td>6.25</td>\n",
       "    </tr>\n",
       "    <tr>\n",
       "      <th>17967</th>\n",
       "      <td>Tools_and_Home_Improvement_5</td>\n",
       "      <td>1.0</td>\n",
       "      <td>OR</td>\n",
       "      <td>Installed by a insured and bonded plumber with...</td>\n",
       "      <td>70.09</td>\n",
       "      <td>5.9</td>\n",
       "      <td>9.95</td>\n",
       "      <td>7.4</td>\n",
       "      <td>8.8</td>\n",
       "      <td>8.02</td>\n",
       "    </tr>\n",
       "    <tr>\n",
       "      <th>7261</th>\n",
       "      <td>Sports_and_Outdoors_5</td>\n",
       "      <td>5.0</td>\n",
       "      <td>OR</td>\n",
       "      <td>This is the best accessory ever developed for ...</td>\n",
       "      <td>84.57</td>\n",
       "      <td>4.5</td>\n",
       "      <td>5.09</td>\n",
       "      <td>4.4</td>\n",
       "      <td>6.4</td>\n",
       "      <td>5.57</td>\n",
       "    </tr>\n",
       "    <tr>\n",
       "      <th>17575</th>\n",
       "      <td>Tools_and_Home_Improvement_5</td>\n",
       "      <td>5.0</td>\n",
       "      <td>CG</td>\n",
       "      <td>It is sensitive enough to find an easy way to ...</td>\n",
       "      <td>95.67</td>\n",
       "      <td>2.3</td>\n",
       "      <td>0.20</td>\n",
       "      <td>-0.7</td>\n",
       "      <td>6.0</td>\n",
       "      <td>4.85</td>\n",
       "    </tr>\n",
       "    <tr>\n",
       "      <th>14951</th>\n",
       "      <td>Movies_and_TV_5</td>\n",
       "      <td>5.0</td>\n",
       "      <td>OR</td>\n",
       "      <td>Finally, a show about idiots, and 3 women in t...</td>\n",
       "      <td>65.32</td>\n",
       "      <td>7.7</td>\n",
       "      <td>8.17</td>\n",
       "      <td>8.3</td>\n",
       "      <td>10.4</td>\n",
       "      <td>9.81</td>\n",
       "    </tr>\n",
       "    <tr>\n",
       "      <th>2866</th>\n",
       "      <td>Home_and_Kitchen_5</td>\n",
       "      <td>5.0</td>\n",
       "      <td>CG</td>\n",
       "      <td>They work as well as the ones I bought at a lo...</td>\n",
       "      <td>93.14</td>\n",
       "      <td>3.3</td>\n",
       "      <td>2.54</td>\n",
       "      <td>1.8</td>\n",
       "      <td>3.1</td>\n",
       "      <td>4.80</td>\n",
       "    </tr>\n",
       "    <tr>\n",
       "      <th>38832</th>\n",
       "      <td>Clothing_Shoes_and_Jewelry_5</td>\n",
       "      <td>3.0</td>\n",
       "      <td>CG</td>\n",
       "      <td>I chose this tee mainly because it is lightwei...</td>\n",
       "      <td>94.86</td>\n",
       "      <td>2.6</td>\n",
       "      <td>5.54</td>\n",
       "      <td>4.1</td>\n",
       "      <td>6.4</td>\n",
       "      <td>5.41</td>\n",
       "    </tr>\n",
       "    <tr>\n",
       "      <th>33103</th>\n",
       "      <td>Toys_and_Games_5</td>\n",
       "      <td>5.0</td>\n",
       "      <td>CG</td>\n",
       "      <td>Nice BEC, I recommend it.Cute!!We love this to...</td>\n",
       "      <td>92.80</td>\n",
       "      <td>1.3</td>\n",
       "      <td>-1.00</td>\n",
       "      <td>0.6</td>\n",
       "      <td>6.4</td>\n",
       "      <td>4.93</td>\n",
       "    </tr>\n",
       "    <tr>\n",
       "      <th>28227</th>\n",
       "      <td>Kindle_Store_5</td>\n",
       "      <td>4.0</td>\n",
       "      <td>CG</td>\n",
       "      <td>Della: Bride of Texas (American Gothic)\\n\\nWak...</td>\n",
       "      <td>-88.22</td>\n",
       "      <td>68.8</td>\n",
       "      <td>9.89</td>\n",
       "      <td>88.1</td>\n",
       "      <td>0.0</td>\n",
       "      <td>69.60</td>\n",
       "    </tr>\n",
       "    <tr>\n",
       "      <th>11423</th>\n",
       "      <td>Electronics_5</td>\n",
       "      <td>3.0</td>\n",
       "      <td>OR</td>\n",
       "      <td>Bought The Satechi SD Mini &amp; the X-Mini Happy ...</td>\n",
       "      <td>71.04</td>\n",
       "      <td>7.6</td>\n",
       "      <td>8.00</td>\n",
       "      <td>9.1</td>\n",
       "      <td>9.6</td>\n",
       "      <td>9.41</td>\n",
       "    </tr>\n",
       "    <tr>\n",
       "      <th>26674</th>\n",
       "      <td>Kindle_Store_5</td>\n",
       "      <td>5.0</td>\n",
       "      <td>OR</td>\n",
       "      <td>Sometimes I want a good, short, read, and this...</td>\n",
       "      <td>94.05</td>\n",
       "      <td>2.9</td>\n",
       "      <td>4.79</td>\n",
       "      <td>3.9</td>\n",
       "      <td>7.4</td>\n",
       "      <td>5.47</td>\n",
       "    </tr>\n",
       "  </tbody>\n",
       "</table>\n",
       "</div>"
      ],
      "text/plain": [
       "                           category  rating label  \\\n",
       "4360          Sports_and_Outdoors_5     5.0    CG   \n",
       "10230                 Electronics_5     4.0    CG   \n",
       "926              Home_and_Kitchen_5     5.0    OR   \n",
       "38278  Clothing_Shoes_and_Jewelry_5     2.0    OR   \n",
       "38913  Clothing_Shoes_and_Jewelry_5     3.0    CG   \n",
       "28035                Kindle_Store_5     3.0    OR   \n",
       "28182                Kindle_Store_5     3.0    CG   \n",
       "23079                Pet_Supplies_5     2.0    OR   \n",
       "30510                       Books_5     4.0    OR   \n",
       "14743               Movies_and_TV_5     5.0    OR   \n",
       "17967  Tools_and_Home_Improvement_5     1.0    OR   \n",
       "7261          Sports_and_Outdoors_5     5.0    OR   \n",
       "17575  Tools_and_Home_Improvement_5     5.0    CG   \n",
       "14951               Movies_and_TV_5     5.0    OR   \n",
       "2866             Home_and_Kitchen_5     5.0    CG   \n",
       "38832  Clothing_Shoes_and_Jewelry_5     3.0    CG   \n",
       "33103              Toys_and_Games_5     5.0    CG   \n",
       "28227                Kindle_Store_5     4.0    CG   \n",
       "11423                 Electronics_5     3.0    OR   \n",
       "26674                Kindle_Store_5     5.0    OR   \n",
       "\n",
       "                                                   text_  flesch_reading_ease  \\\n",
       "4360   Nice product. Use it for a couple of years and...                96.69   \n",
       "10230  I hooked it up to my old AC adapter and it wor...                97.40   \n",
       "926    Use these every day.  Convenient size and easy...                99.53   \n",
       "38278  I found it too bulky and too hard to use for n...                90.60   \n",
       "38913  I get lots of compliments on it and the materi...                96.01   \n",
       "28035  This book was raw with emotion from page 1 and...                86.23   \n",
       "28182  This cannot be read first time. The story is v...                86.40   \n",
       "23079  I'm not sure if my cat is not that bright or n...                92.22   \n",
       "30510  This book was long and slow to start.  It seem...                87.72   \n",
       "14743  I decided to pick this boxset because of my gr...                84.27   \n",
       "17967  Installed by a insured and bonded plumber with...                70.09   \n",
       "7261   This is the best accessory ever developed for ...                84.57   \n",
       "17575  It is sensitive enough to find an easy way to ...                95.67   \n",
       "14951  Finally, a show about idiots, and 3 women in t...                65.32   \n",
       "2866   They work as well as the ones I bought at a lo...                93.14   \n",
       "38832  I chose this tee mainly because it is lightwei...                94.86   \n",
       "33103  Nice BEC, I recommend it.Cute!!We love this to...                92.80   \n",
       "28227  Della: Bride of Texas (American Gothic)\\n\\nWak...               -88.22   \n",
       "11423  Bought The Satechi SD Mini & the X-Mini Happy ...                71.04   \n",
       "26674  Sometimes I want a good, short, read, and this...                94.05   \n",
       "\n",
       "       flesch_kincaid_grade  coleman_liau_index  automated_readability_index  \\\n",
       "4360                    1.9                3.15                          1.7   \n",
       "10230                   1.6                2.80                          1.5   \n",
       "926                     0.8                2.77                          1.9   \n",
       "38278                   4.2                3.12                          3.5   \n",
       "38913                   4.2                0.46                          2.7   \n",
       "28035                   5.9                6.04                          7.3   \n",
       "28182                   3.8                4.73                          3.3   \n",
       "23079                   3.6                2.94                          2.8   \n",
       "30510                   3.3                5.42                          3.5   \n",
       "14743                   4.6                5.61                          4.8   \n",
       "17967                   5.9                9.95                          7.4   \n",
       "7261                    4.5                5.09                          4.4   \n",
       "17575                   2.3                0.20                         -0.7   \n",
       "14951                   7.7                8.17                          8.3   \n",
       "2866                    3.3                2.54                          1.8   \n",
       "38832                   2.6                5.54                          4.1   \n",
       "33103                   1.3               -1.00                          0.6   \n",
       "28227                  68.8                9.89                         88.1   \n",
       "11423                   7.6                8.00                          9.1   \n",
       "26674                   2.9                4.79                          3.9   \n",
       "\n",
       "       smog_index  gunning_fog  \n",
       "4360          0.0         3.40  \n",
       "10230         5.7         4.15  \n",
       "926           6.4         4.63  \n",
       "38278         0.0         7.18  \n",
       "38913         0.0         9.29  \n",
       "28035         6.8         8.41  \n",
       "28182         8.0         5.54  \n",
       "23079         6.7         5.78  \n",
       "30510         8.8         7.16  \n",
       "14743         7.2         6.25  \n",
       "17967         8.8         8.02  \n",
       "7261          6.4         5.57  \n",
       "17575         6.0         4.85  \n",
       "14951        10.4         9.81  \n",
       "2866          3.1         4.80  \n",
       "38832         6.4         5.41  \n",
       "33103         6.4         4.93  \n",
       "28227         0.0        69.60  \n",
       "11423         9.6         9.41  \n",
       "26674         7.4         5.47  "
      ]
     },
     "execution_count": 6,
     "metadata": {},
     "output_type": "execute_result"
    }
   ],
   "source": [
    "readability_data = readability_data.sample(frac=1)\n",
    "readability_data.head(20)"
   ]
  },
  {
   "cell_type": "code",
   "execution_count": 7,
   "id": "c0d12ac2",
   "metadata": {},
   "outputs": [
    {
     "data": {
      "image/png": "[encoded data removed]",
      "text/plain": [
       "<Figure size 1000x500 with 1 Axes>"
      ]
     },
     "metadata": {},
     "output_type": "display_data"
    }
   ],
   "source": [
    "ax = data['rating'].value_counts().sort_index() \\\n",
    "    .plot(kind='bar',\n",
    "          title='Count of Reviews by Stars',\n",
    "          figsize=(10, 5))\n",
    "ax.set_xlabel('Review Stars')\n",
    "plt.show()"
   ]
  },
  {
   "cell_type": "code",
   "execution_count": 8,
   "id": "b772e79e",
   "metadata": {},
   "outputs": [
    {
     "data": {
      "text/plain": [
       "(40432, 4)"
      ]
     },
     "execution_count": 8,
     "metadata": {},
     "output_type": "execute_result"
    }
   ],
   "source": [
    "data.shape"
   ]
  },
  {
   "cell_type": "code",
   "execution_count": 9,
   "id": "6176c6db",
   "metadata": {},
   "outputs": [
    {
     "data": {
      "text/plain": [
       "category    0\n",
       "rating      0\n",
       "label       0\n",
       "text_       0\n",
       "dtype: int64"
      ]
     },
     "execution_count": 9,
     "metadata": {},
     "output_type": "execute_result"
    }
   ],
   "source": [
    "data.isnull().sum()"
   ]
  },
  {
   "cell_type": "code",
   "execution_count": 10,
   "id": "70664a32",
   "metadata": {
    "scrolled": true
   },
   "outputs": [
    {
     "data": {
      "text/plain": [
       "(40432, 4)"
      ]
     },
     "execution_count": 10,
     "metadata": {},
     "output_type": "execute_result"
    }
   ],
   "source": [
    "data.shape"
   ]
  },
  {
   "cell_type": "code",
   "execution_count": 11,
   "id": "c4c5c5e1",
   "metadata": {},
   "outputs": [
    {
     "data": {
      "text/html": [
       "<div>\n",
       "<style scoped>\n",
       "    .dataframe tbody tr th:only-of-type {\n",
       "        vertical-align: middle;\n",
       "    }\n",
       "\n",
       "    .dataframe tbody tr th {\n",
       "        vertical-align: top;\n",
       "    }\n",
       "\n",
       "    .dataframe thead th {\n",
       "        text-align: right;\n",
       "    }\n",
       "</style>\n",
       "<table border=\"1\" class=\"dataframe\">\n",
       "  <thead>\n",
       "    <tr style=\"text-align: right;\">\n",
       "      <th></th>\n",
       "      <th>label</th>\n",
       "      <th>text_</th>\n",
       "    </tr>\n",
       "  </thead>\n",
       "  <tbody>\n",
       "    <tr>\n",
       "      <th>0</th>\n",
       "      <td>CG</td>\n",
       "      <td>Love this!  Well made, sturdy, and very comfor...</td>\n",
       "    </tr>\n",
       "    <tr>\n",
       "      <th>1</th>\n",
       "      <td>CG</td>\n",
       "      <td>love it, a great upgrade from the original.  I...</td>\n",
       "    </tr>\n",
       "    <tr>\n",
       "      <th>2</th>\n",
       "      <td>CG</td>\n",
       "      <td>This pillow saved my back. I love the look and...</td>\n",
       "    </tr>\n",
       "    <tr>\n",
       "      <th>3</th>\n",
       "      <td>CG</td>\n",
       "      <td>Missing information on how to use it, but it i...</td>\n",
       "    </tr>\n",
       "    <tr>\n",
       "      <th>4</th>\n",
       "      <td>CG</td>\n",
       "      <td>Very nice set. Good quality. We have had the s...</td>\n",
       "    </tr>\n",
       "    <tr>\n",
       "      <th>5</th>\n",
       "      <td>CG</td>\n",
       "      <td>I WANTED DIFFERENT FLAVORS BUT THEY ARE NOT.</td>\n",
       "    </tr>\n",
       "    <tr>\n",
       "      <th>6</th>\n",
       "      <td>CG</td>\n",
       "      <td>They are the perfect touch for me and the only...</td>\n",
       "    </tr>\n",
       "    <tr>\n",
       "      <th>7</th>\n",
       "      <td>CG</td>\n",
       "      <td>These done fit well and look great.  I love th...</td>\n",
       "    </tr>\n",
       "    <tr>\n",
       "      <th>8</th>\n",
       "      <td>CG</td>\n",
       "      <td>Great big numbers &amp; easy to read, the only thi...</td>\n",
       "    </tr>\n",
       "    <tr>\n",
       "      <th>9</th>\n",
       "      <td>CG</td>\n",
       "      <td>My son loves this comforter and it is very wel...</td>\n",
       "    </tr>\n",
       "  </tbody>\n",
       "</table>\n",
       "</div>"
      ],
      "text/plain": [
       "  label                                              text_\n",
       "0    CG  Love this!  Well made, sturdy, and very comfor...\n",
       "1    CG  love it, a great upgrade from the original.  I...\n",
       "2    CG  This pillow saved my back. I love the look and...\n",
       "3    CG  Missing information on how to use it, but it i...\n",
       "4    CG  Very nice set. Good quality. We have had the s...\n",
       "5    CG       I WANTED DIFFERENT FLAVORS BUT THEY ARE NOT.\n",
       "6    CG  They are the perfect touch for me and the only...\n",
       "7    CG  These done fit well and look great.  I love th...\n",
       "8    CG  Great big numbers & easy to read, the only thi...\n",
       "9    CG  My son loves this comforter and it is very wel..."
      ]
     },
     "execution_count": 11,
     "metadata": {},
     "output_type": "execute_result"
    }
   ],
   "source": [
    "new_data = data.drop([\"category\", \"rating\"], axis=1)\n",
    "new_data.head(10)"
   ]
  },
  {
   "cell_type": "code",
   "execution_count": 12,
   "id": "83b00429",
   "metadata": {},
   "outputs": [
    {
     "name": "stderr",
     "output_type": "stream",
     "text": [
      "[nltk_data] Downloading package stopwords to /home/Ram/nltk_data...\n",
      "[nltk_data]   Package stopwords is already up-to-date!\n"
     ]
    }
   ],
   "source": [
    "import nltk\n",
    "nltk.download('stopwords')\n",
    "stemmer = nltk.SnowballStemmer(\"english\")\n",
    "from nltk.corpus import stopwords\n",
    "import string\n",
    "stopword=set(stopwords.words('english'))\n",
    "\n",
    "def text_cleaning(text):\n",
    "    text = str(text).lower()\n",
    "    text = re.sub('\\[.*?\\]', '', text)\n",
    "    text = re.sub('https?://\\S+|www\\.\\S+', '', text)\n",
    "    text = re.sub('<.*?>+', '', text)\n",
    "    text = re.sub('[%s]' % re.escape(string.punctuation), '', text)\n",
    "    text = re.sub('\\n', '', text)\n",
    "    text = re.sub('\\w*\\d\\w*', '', text)\n",
    "    text = [word for word in text.split(' ') if word not in stopword]\n",
    "    text=\" \".join(text)\n",
    "    text = [stemmer.stem(word) for word in text.split(' ')]\n",
    "    text=\" \".join(text)   \n",
    "    return text"
   ]
  },
  {
   "cell_type": "code",
   "execution_count": 13,
   "id": "6c6d39c0",
   "metadata": {},
   "outputs": [],
   "source": [
    "new_data['text_'] = new_data[\"text_\"].apply(text_cleaning)"
   ]
  },
  {
   "cell_type": "code",
   "execution_count": 14,
   "id": "79687a26",
   "metadata": {
    "scrolled": false
   },
   "outputs": [
    {
     "data": {
      "text/html": [
       "<div>\n",
       "<style scoped>\n",
       "    .dataframe tbody tr th:only-of-type {\n",
       "        vertical-align: middle;\n",
       "    }\n",
       "\n",
       "    .dataframe tbody tr th {\n",
       "        vertical-align: top;\n",
       "    }\n",
       "\n",
       "    .dataframe thead th {\n",
       "        text-align: right;\n",
       "    }\n",
       "</style>\n",
       "<table border=\"1\" class=\"dataframe\">\n",
       "  <thead>\n",
       "    <tr style=\"text-align: right;\">\n",
       "      <th></th>\n",
       "      <th>label</th>\n",
       "      <th>text_</th>\n",
       "    </tr>\n",
       "  </thead>\n",
       "  <tbody>\n",
       "    <tr>\n",
       "      <th>0</th>\n",
       "      <td>CG</td>\n",
       "      <td>love  well made sturdi comfort  love itveri pr...</td>\n",
       "    </tr>\n",
       "    <tr>\n",
       "      <th>1</th>\n",
       "      <td>CG</td>\n",
       "      <td>love great upgrad origin  ive mine coupl year</td>\n",
       "    </tr>\n",
       "    <tr>\n",
       "      <th>2</th>\n",
       "      <td>CG</td>\n",
       "      <td>pillow save back love look feel pillow</td>\n",
       "    </tr>\n",
       "    <tr>\n",
       "      <th>3</th>\n",
       "      <td>CG</td>\n",
       "      <td>miss inform use great product price</td>\n",
       "    </tr>\n",
       "    <tr>\n",
       "      <th>4</th>\n",
       "      <td>CG</td>\n",
       "      <td>nice set good qualiti set two month</td>\n",
       "    </tr>\n",
       "    <tr>\n",
       "      <th>5</th>\n",
       "      <td>CG</td>\n",
       "      <td>want differ flavor</td>\n",
       "    </tr>\n",
       "    <tr>\n",
       "      <th>6</th>\n",
       "      <td>CG</td>\n",
       "      <td>perfect touch thing wish littl space</td>\n",
       "    </tr>\n",
       "    <tr>\n",
       "      <th>7</th>\n",
       "      <td>CG</td>\n",
       "      <td>done fit well look great  love smooth edg extra</td>\n",
       "    </tr>\n",
       "    <tr>\n",
       "      <th>8</th>\n",
       "      <td>CG</td>\n",
       "      <td>great big number  easi read thing didnt like size</td>\n",
       "    </tr>\n",
       "    <tr>\n",
       "      <th>9</th>\n",
       "      <td>CG</td>\n",
       "      <td>son love comfort well made  also babi</td>\n",
       "    </tr>\n",
       "    <tr>\n",
       "      <th>10</th>\n",
       "      <td>CG</td>\n",
       "      <td>advertis  one ive problem realli</td>\n",
       "    </tr>\n",
       "    <tr>\n",
       "      <th>11</th>\n",
       "      <td>CG</td>\n",
       "      <td>handi one kid tool includ packag one</td>\n",
       "    </tr>\n",
       "    <tr>\n",
       "      <th>12</th>\n",
       "      <td>CG</td>\n",
       "      <td>someon say orient   great product</td>\n",
       "    </tr>\n",
       "    <tr>\n",
       "      <th>13</th>\n",
       "      <td>CG</td>\n",
       "      <td>flimsi qualiti would expect piec furnitur</td>\n",
       "    </tr>\n",
       "    <tr>\n",
       "      <th>14</th>\n",
       "      <td>CG</td>\n",
       "      <td>make may tea stir problem kind hard put</td>\n",
       "    </tr>\n",
       "    <tr>\n",
       "      <th>15</th>\n",
       "      <td>CG</td>\n",
       "      <td>absolut ador excel price wooden one month</td>\n",
       "    </tr>\n",
       "    <tr>\n",
       "      <th>16</th>\n",
       "      <td>CG</td>\n",
       "      <td>love  perfect size entir familyveri good qualiti</td>\n",
       "    </tr>\n",
       "    <tr>\n",
       "      <th>17</th>\n",
       "      <td>CG</td>\n",
       "      <td>look beauti nice problem realli mesh one</td>\n",
       "    </tr>\n",
       "    <tr>\n",
       "      <th>18</th>\n",
       "      <td>CG</td>\n",
       "      <td>exact would expect love look feel pillow</td>\n",
       "    </tr>\n",
       "    <tr>\n",
       "      <th>19</th>\n",
       "      <td>CG</td>\n",
       "      <td>star would high recommend item love blanket</td>\n",
       "    </tr>\n",
       "  </tbody>\n",
       "</table>\n",
       "</div>"
      ],
      "text/plain": [
       "   label                                              text_\n",
       "0     CG  love  well made sturdi comfort  love itveri pr...\n",
       "1     CG      love great upgrad origin  ive mine coupl year\n",
       "2     CG             pillow save back love look feel pillow\n",
       "3     CG               miss inform use great product price \n",
       "4     CG                nice set good qualiti set two month\n",
       "5     CG                                 want differ flavor\n",
       "6     CG               perfect touch thing wish littl space\n",
       "7     CG    done fit well look great  love smooth edg extra\n",
       "8     CG  great big number  easi read thing didnt like size\n",
       "9     CG              son love comfort well made  also babi\n",
       "10    CG                   advertis  one ive problem realli\n",
       "11    CG               handi one kid tool includ packag one\n",
       "12    CG                  someon say orient   great product\n",
       "13    CG          flimsi qualiti would expect piec furnitur\n",
       "14    CG            make may tea stir problem kind hard put\n",
       "15    CG          absolut ador excel price wooden one month\n",
       "16    CG   love  perfect size entir familyveri good qualiti\n",
       "17    CG           look beauti nice problem realli mesh one\n",
       "18    CG           exact would expect love look feel pillow\n",
       "19    CG        star would high recommend item love blanket"
      ]
     },
     "execution_count": 14,
     "metadata": {},
     "output_type": "execute_result"
    }
   ],
   "source": [
    "new_data.head(20)"
   ]
  },
  {
   "cell_type": "code",
   "execution_count": 15,
   "id": "1b1cec21",
   "metadata": {},
   "outputs": [],
   "source": [
    "new_data = new_data.head(40400)\n",
    "new_data = new_data.sample(frac=1)"
   ]
  },
  {
   "cell_type": "code",
   "execution_count": 16,
   "id": "01fedf0b",
   "metadata": {},
   "outputs": [],
   "source": [
    "\n",
    "new_data.to_csv(\"cleandata.csv\", index=False)"
   ]
  },
  {
   "cell_type": "code",
   "execution_count": 17,
   "id": "e3df165c",
   "metadata": {},
   "outputs": [
    {
     "data": {
      "text/plain": [
       "(40400, 2)"
      ]
     },
     "execution_count": 17,
     "metadata": {},
     "output_type": "execute_result"
    }
   ],
   "source": [
    "cleandata = pd.read_csv(\"cleandata.csv\")\n",
    "cleandata.shape"
   ]
  },
  {
   "cell_type": "code",
   "execution_count": 18,
   "id": "948049cd",
   "metadata": {},
   "outputs": [
    {
     "data": {
      "text/html": [
       "<div>\n",
       "<style scoped>\n",
       "    .dataframe tbody tr th:only-of-type {\n",
       "        vertical-align: middle;\n",
       "    }\n",
       "\n",
       "    .dataframe tbody tr th {\n",
       "        vertical-align: top;\n",
       "    }\n",
       "\n",
       "    .dataframe thead th {\n",
       "        text-align: right;\n",
       "    }\n",
       "</style>\n",
       "<table border=\"1\" class=\"dataframe\">\n",
       "  <thead>\n",
       "    <tr style=\"text-align: right;\">\n",
       "      <th></th>\n",
       "      <th>label</th>\n",
       "      <th>text_</th>\n",
       "      <th>id</th>\n",
       "    </tr>\n",
       "  </thead>\n",
       "  <tbody>\n",
       "    <tr>\n",
       "      <th>0</th>\n",
       "      <td>OR</td>\n",
       "      <td>product show schedul  box secur  charg quick t...</td>\n",
       "      <td>1</td>\n",
       "    </tr>\n",
       "    <tr>\n",
       "      <th>1</th>\n",
       "      <td>CG</td>\n",
       "      <td>great deal well built set headphon  keep revie...</td>\n",
       "      <td>2</td>\n",
       "    </tr>\n",
       "    <tr>\n",
       "      <th>2</th>\n",
       "      <td>OR</td>\n",
       "      <td>littl deeper addit plot examin aftermath extre...</td>\n",
       "      <td>3</td>\n",
       "    </tr>\n",
       "    <tr>\n",
       "      <th>3</th>\n",
       "      <td>CG</td>\n",
       "      <td>one great potenti charact real strong femal le...</td>\n",
       "      <td>4</td>\n",
       "    </tr>\n",
       "    <tr>\n",
       "      <th>4</th>\n",
       "      <td>OR</td>\n",
       "      <td>delight book read look book author didnt find ...</td>\n",
       "      <td>5</td>\n",
       "    </tr>\n",
       "    <tr>\n",
       "      <th>5</th>\n",
       "      <td>OR</td>\n",
       "      <td>midnight couldnt put begin knew go happen didn...</td>\n",
       "      <td>6</td>\n",
       "    </tr>\n",
       "    <tr>\n",
       "      <th>6</th>\n",
       "      <td>CG</td>\n",
       "      <td>product exact expect kid love  son love two to...</td>\n",
       "      <td>7</td>\n",
       "    </tr>\n",
       "    <tr>\n",
       "      <th>7</th>\n",
       "      <td>CG</td>\n",
       "      <td>want filter would lightweight comfort travel ...</td>\n",
       "      <td>8</td>\n",
       "    </tr>\n",
       "    <tr>\n",
       "      <th>8</th>\n",
       "      <td>OR</td>\n",
       "      <td>work advertis  use insul storag shed tend get ...</td>\n",
       "      <td>9</td>\n",
       "    </tr>\n",
       "    <tr>\n",
       "      <th>9</th>\n",
       "      <td>CG</td>\n",
       "      <td>must anyon want tri new bat first time</td>\n",
       "      <td>10</td>\n",
       "    </tr>\n",
       "  </tbody>\n",
       "</table>\n",
       "</div>"
      ],
      "text/plain": [
       "  label                                              text_  id\n",
       "0    OR  product show schedul  box secur  charg quick t...   1\n",
       "1    CG  great deal well built set headphon  keep revie...   2\n",
       "2    OR  littl deeper addit plot examin aftermath extre...   3\n",
       "3    CG  one great potenti charact real strong femal le...   4\n",
       "4    OR  delight book read look book author didnt find ...   5\n",
       "5    OR  midnight couldnt put begin knew go happen didn...   6\n",
       "6    CG  product exact expect kid love  son love two to...   7\n",
       "7    CG   want filter would lightweight comfort travel ...   8\n",
       "8    OR  work advertis  use insul storag shed tend get ...   9\n",
       "9    CG             must anyon want tri new bat first time  10"
      ]
     },
     "execution_count": 18,
     "metadata": {},
     "output_type": "execute_result"
    }
   ],
   "source": [
    "cleandata['id'] = range(1, len(cleandata) + 1)\n",
    "cleandata.head(10)"
   ]
  },
  {
   "cell_type": "code",
   "execution_count": 19,
   "id": "1a2b228a",
   "metadata": {
    "scrolled": true
   },
   "outputs": [
    {
     "name": "stderr",
     "output_type": "stream",
     "text": [
      "[nltk_data] Downloading package vader_lexicon to\n",
      "[nltk_data]     /home/Ram/nltk_data...\n",
      "[nltk_data]   Package vader_lexicon is already up-to-date!\n"
     ]
    }
   ],
   "source": [
    "import nltk\n",
    "nltk.download('vader_lexicon')\n",
    "\n",
    "from nltk.sentiment import SentimentIntensityAnalyzer\n",
    "from tqdm.notebook import tqdm\n",
    "\n",
    "sia = SentimentIntensityAnalyzer()"
   ]
  },
  {
   "cell_type": "code",
   "execution_count": 20,
   "id": "aed0eb6b",
   "metadata": {},
   "outputs": [
    {
     "name": "stdout",
     "output_type": "stream",
     "text": [
      "2.1.1+cu121\n"
     ]
    }
   ],
   "source": [
    "import torch\n",
    "print(torch.__version__)"
   ]
  },
  {
   "cell_type": "code",
   "execution_count": 21,
   "id": "18a0b607",
   "metadata": {},
   "outputs": [],
   "source": [
    "from transformers import AutoTokenizer\n",
    "from transformers import AutoModelForSequenceClassification\n",
    "from scipy.special import softmax"
   ]
  },
  {
   "cell_type": "code",
   "execution_count": 22,
   "id": "cac58734",
   "metadata": {},
   "outputs": [],
   "source": [
    "MODEL = f\"cardiffnlp/twitter-roberta-base-sentiment\"\n",
    "tokenizer = AutoTokenizer.from_pretrained(MODEL)\n",
    "model = AutoModelForSequenceClassification.from_pretrained(MODEL)"
   ]
  },
  {
   "cell_type": "code",
   "execution_count": 23,
   "id": "85910909",
   "metadata": {},
   "outputs": [],
   "source": [
    "def polarity_scores_roberta(example):\n",
    "    encoded_text = tokenizer(example, return_tensors='pt')\n",
    "    output = model(**encoded_text)\n",
    "    scores = output[0][0].detach().numpy()\n",
    "    scores = softmax(scores)\n",
    "    scores_dict = {\n",
    "        'roberta_neg' : scores[0],\n",
    "        'roberta_neu' : scores[1],\n",
    "        'roberta_pos' : scores[2]\n",
    "    }\n",
    "    return scores_dict"
   ]
  },
  {
   "cell_type": "code",
   "execution_count": 24,
   "id": "4064dec7",
   "metadata": {},
   "outputs": [
    {
     "name": "stdout",
     "output_type": "stream",
     "text": [
      "{'roberta_neg': 0.0018941411, 'roberta_neu': 0.017028842, 'roberta_pos': 0.981077}\n"
     ]
    }
   ],
   "source": [
    "scores = polarity_scores_roberta('I am very satisfied with the product')\n",
    "print(scores)"
   ]
  },
  {
   "cell_type": "code",
   "execution_count": 29,
   "id": "0a55ad6a",
   "metadata": {},
   "outputs": [
    {
     "data": {
      "application/vnd.jupyter.widget-view+json": {
       "model_id": "fc480ea7fef84148b2f88d21523d06ef",
       "version_major": 2,
       "version_minor": 0
      },
      "text/plain": [
       "  0%|          | 0/40400 [00:00<?, ?it/s]"
      ]
     },
     "metadata": {},
     "output_type": "display_data"
    }
   ],
   "source": [
    "# data['id'] = range(1, len(data) + 1)\n",
    "# res = {}\n",
    "# for i, row in tqdm(data.iterrows(), total=len(data)):\n",
    "#     text = row['text_']\n",
    "#     myid = row['id']\n",
    "#     res[myid] = sia.polarity_scores(text)\n",
    "# res = {}\n",
    "# for i, row in tqdm(cleandata.iterrows(), total=len(cleandata)):\n",
    "#     try:\n",
    "#         text = row['text_']\n",
    "#         myid = row['id']\n",
    "#         vader_result = sia.polarity_scores(text)\n",
    "#         vader_result_rename = {}\n",
    "#         for key, value in vader_result.items():\n",
    "#             vader_result_rename[f\"vader_{key}\"] = value\n",
    "#         roberta_result = polarity_scores_roberta(text)\n",
    "#         both = {**vader_result_rename, **roberta_result}\n",
    "#         res[myid] = both\n",
    "#     except RuntimeError:\n",
    "#         print(f'Broke for id {myid}')"
   ]
  },
  {
   "cell_type": "code",
   "execution_count": 30,
   "id": "93547f27",
   "metadata": {},
   "outputs": [],
   "source": [
    "import pickle"
   ]
  },
  {
   "cell_type": "code",
   "execution_count": 31,
   "id": "dfee52ca",
   "metadata": {},
   "outputs": [],
   "source": [
    "# with open('sentiment_dictionary.pkl', 'wb') as f:\n",
    "#     pickle.dump(res, f)\n"
   ]
  },
  {
   "cell_type": "code",
   "execution_count": 33,
   "id": "2b9b05d5",
   "metadata": {},
   "outputs": [],
   "source": [
    "with open('sentiment_dictionary.pkl', 'rb') as f:\n",
    "    loaded_dict = pickle.load(f)"
   ]
  },
  {
   "cell_type": "code",
   "execution_count": 34,
   "id": "5ba41857",
   "metadata": {},
   "outputs": [],
   "source": [
    "vaders = pd.DataFrame(loaded_dict).T\n",
    "vaders = vaders.reset_index().rename(columns={'index': 'id'})\n",
    "vaders = vaders.merge(cleandata, how='left')"
   ]
  },
  {
   "cell_type": "code",
   "execution_count": 35,
   "id": "1a0c724b",
   "metadata": {},
   "outputs": [
    {
     "data": {
      "text/html": [
       "<div>\n",
       "<style scoped>\n",
       "    .dataframe tbody tr th:only-of-type {\n",
       "        vertical-align: middle;\n",
       "    }\n",
       "\n",
       "    .dataframe tbody tr th {\n",
       "        vertical-align: top;\n",
       "    }\n",
       "\n",
       "    .dataframe thead th {\n",
       "        text-align: right;\n",
       "    }\n",
       "</style>\n",
       "<table border=\"1\" class=\"dataframe\">\n",
       "  <thead>\n",
       "    <tr style=\"text-align: right;\">\n",
       "      <th></th>\n",
       "      <th>id</th>\n",
       "      <th>vader_neg</th>\n",
       "      <th>vader_neu</th>\n",
       "      <th>vader_pos</th>\n",
       "      <th>vader_compound</th>\n",
       "      <th>roberta_neg</th>\n",
       "      <th>roberta_neu</th>\n",
       "      <th>roberta_pos</th>\n",
       "      <th>label</th>\n",
       "      <th>text_</th>\n",
       "    </tr>\n",
       "  </thead>\n",
       "  <tbody>\n",
       "    <tr>\n",
       "      <th>0</th>\n",
       "      <td>1</td>\n",
       "      <td>0.000</td>\n",
       "      <td>1.000</td>\n",
       "      <td>0.000</td>\n",
       "      <td>0.0000</td>\n",
       "      <td>0.068365</td>\n",
       "      <td>0.876381</td>\n",
       "      <td>0.055254</td>\n",
       "      <td>OR</td>\n",
       "      <td>product show schedul  box secur  charg quick t...</td>\n",
       "    </tr>\n",
       "    <tr>\n",
       "      <th>1</th>\n",
       "      <td>2</td>\n",
       "      <td>0.000</td>\n",
       "      <td>0.563</td>\n",
       "      <td>0.437</td>\n",
       "      <td>0.7351</td>\n",
       "      <td>0.006245</td>\n",
       "      <td>0.085218</td>\n",
       "      <td>0.908537</td>\n",
       "      <td>CG</td>\n",
       "      <td>great deal well built set headphon  keep revie...</td>\n",
       "    </tr>\n",
       "    <tr>\n",
       "      <th>2</th>\n",
       "      <td>3</td>\n",
       "      <td>0.120</td>\n",
       "      <td>0.709</td>\n",
       "      <td>0.170</td>\n",
       "      <td>0.6249</td>\n",
       "      <td>0.161742</td>\n",
       "      <td>0.775034</td>\n",
       "      <td>0.063223</td>\n",
       "      <td>OR</td>\n",
       "      <td>littl deeper addit plot examin aftermath extre...</td>\n",
       "    </tr>\n",
       "    <tr>\n",
       "      <th>3</th>\n",
       "      <td>4</td>\n",
       "      <td>0.000</td>\n",
       "      <td>0.364</td>\n",
       "      <td>0.636</td>\n",
       "      <td>0.9325</td>\n",
       "      <td>0.003751</td>\n",
       "      <td>0.159528</td>\n",
       "      <td>0.836721</td>\n",
       "      <td>CG</td>\n",
       "      <td>one great potenti charact real strong femal le...</td>\n",
       "    </tr>\n",
       "    <tr>\n",
       "      <th>4</th>\n",
       "      <td>5</td>\n",
       "      <td>0.000</td>\n",
       "      <td>0.654</td>\n",
       "      <td>0.346</td>\n",
       "      <td>0.8155</td>\n",
       "      <td>0.010217</td>\n",
       "      <td>0.079747</td>\n",
       "      <td>0.910036</td>\n",
       "      <td>OR</td>\n",
       "      <td>delight book read look book author didnt find ...</td>\n",
       "    </tr>\n",
       "    <tr>\n",
       "      <th>5</th>\n",
       "      <td>6</td>\n",
       "      <td>0.000</td>\n",
       "      <td>0.784</td>\n",
       "      <td>0.216</td>\n",
       "      <td>0.5106</td>\n",
       "      <td>0.334287</td>\n",
       "      <td>0.551771</td>\n",
       "      <td>0.113942</td>\n",
       "      <td>OR</td>\n",
       "      <td>midnight couldnt put begin knew go happen didn...</td>\n",
       "    </tr>\n",
       "    <tr>\n",
       "      <th>6</th>\n",
       "      <td>7</td>\n",
       "      <td>0.000</td>\n",
       "      <td>0.418</td>\n",
       "      <td>0.582</td>\n",
       "      <td>0.9821</td>\n",
       "      <td>0.003792</td>\n",
       "      <td>0.017355</td>\n",
       "      <td>0.978853</td>\n",
       "      <td>CG</td>\n",
       "      <td>product exact expect kid love  son love two to...</td>\n",
       "    </tr>\n",
       "    <tr>\n",
       "      <th>7</th>\n",
       "      <td>8</td>\n",
       "      <td>0.000</td>\n",
       "      <td>0.529</td>\n",
       "      <td>0.471</td>\n",
       "      <td>0.8271</td>\n",
       "      <td>0.008941</td>\n",
       "      <td>0.309537</td>\n",
       "      <td>0.681522</td>\n",
       "      <td>CG</td>\n",
       "      <td>want filter would lightweight comfort travel ...</td>\n",
       "    </tr>\n",
       "    <tr>\n",
       "      <th>8</th>\n",
       "      <td>9</td>\n",
       "      <td>0.000</td>\n",
       "      <td>1.000</td>\n",
       "      <td>0.000</td>\n",
       "      <td>0.0000</td>\n",
       "      <td>0.099801</td>\n",
       "      <td>0.826389</td>\n",
       "      <td>0.073810</td>\n",
       "      <td>OR</td>\n",
       "      <td>work advertis  use insul storag shed tend get ...</td>\n",
       "    </tr>\n",
       "    <tr>\n",
       "      <th>9</th>\n",
       "      <td>10</td>\n",
       "      <td>0.000</td>\n",
       "      <td>0.843</td>\n",
       "      <td>0.157</td>\n",
       "      <td>0.0772</td>\n",
       "      <td>0.049163</td>\n",
       "      <td>0.892427</td>\n",
       "      <td>0.058410</td>\n",
       "      <td>CG</td>\n",
       "      <td>must anyon want tri new bat first time</td>\n",
       "    </tr>\n",
       "    <tr>\n",
       "      <th>10</th>\n",
       "      <td>11</td>\n",
       "      <td>0.000</td>\n",
       "      <td>0.284</td>\n",
       "      <td>0.716</td>\n",
       "      <td>0.9274</td>\n",
       "      <td>0.002241</td>\n",
       "      <td>0.028010</td>\n",
       "      <td>0.969749</td>\n",
       "      <td>CG</td>\n",
       "      <td>yrs old daughter love love also love way</td>\n",
       "    </tr>\n",
       "    <tr>\n",
       "      <th>11</th>\n",
       "      <td>12</td>\n",
       "      <td>0.038</td>\n",
       "      <td>0.777</td>\n",
       "      <td>0.184</td>\n",
       "      <td>0.7958</td>\n",
       "      <td>0.047927</td>\n",
       "      <td>0.789536</td>\n",
       "      <td>0.162537</td>\n",
       "      <td>OR</td>\n",
       "      <td>boot gift wife first put seem littl small reco...</td>\n",
       "    </tr>\n",
       "    <tr>\n",
       "      <th>12</th>\n",
       "      <td>13</td>\n",
       "      <td>0.000</td>\n",
       "      <td>0.405</td>\n",
       "      <td>0.595</td>\n",
       "      <td>0.8316</td>\n",
       "      <td>0.004295</td>\n",
       "      <td>0.085113</td>\n",
       "      <td>0.910592</td>\n",
       "      <td>CG</td>\n",
       "      <td>grandkid love toy  piec sturdi piec fit well c...</td>\n",
       "    </tr>\n",
       "    <tr>\n",
       "      <th>13</th>\n",
       "      <td>14</td>\n",
       "      <td>0.052</td>\n",
       "      <td>0.721</td>\n",
       "      <td>0.227</td>\n",
       "      <td>0.8402</td>\n",
       "      <td>0.013789</td>\n",
       "      <td>0.181066</td>\n",
       "      <td>0.805145</td>\n",
       "      <td>OR</td>\n",
       "      <td>first one work well decid pick anoth one  love...</td>\n",
       "    </tr>\n",
       "    <tr>\n",
       "      <th>14</th>\n",
       "      <td>15</td>\n",
       "      <td>0.388</td>\n",
       "      <td>0.458</td>\n",
       "      <td>0.154</td>\n",
       "      <td>-0.4731</td>\n",
       "      <td>0.621931</td>\n",
       "      <td>0.310175</td>\n",
       "      <td>0.067894</td>\n",
       "      <td>OR</td>\n",
       "      <td>almost useless  lot lag time  smart phone app ...</td>\n",
       "    </tr>\n",
       "    <tr>\n",
       "      <th>15</th>\n",
       "      <td>16</td>\n",
       "      <td>0.000</td>\n",
       "      <td>1.000</td>\n",
       "      <td>0.000</td>\n",
       "      <td>0.0000</td>\n",
       "      <td>0.117147</td>\n",
       "      <td>0.778461</td>\n",
       "      <td>0.104392</td>\n",
       "      <td>CG</td>\n",
       "      <td>studi piec  wooden part cup coupl year</td>\n",
       "    </tr>\n",
       "    <tr>\n",
       "      <th>16</th>\n",
       "      <td>17</td>\n",
       "      <td>0.000</td>\n",
       "      <td>0.492</td>\n",
       "      <td>0.508</td>\n",
       "      <td>0.7351</td>\n",
       "      <td>0.004954</td>\n",
       "      <td>0.115185</td>\n",
       "      <td>0.879861</td>\n",
       "      <td>CG</td>\n",
       "      <td>omg natur energi frequenc technolog  perfect f...</td>\n",
       "    </tr>\n",
       "    <tr>\n",
       "      <th>17</th>\n",
       "      <td>18</td>\n",
       "      <td>0.038</td>\n",
       "      <td>0.555</td>\n",
       "      <td>0.407</td>\n",
       "      <td>0.9601</td>\n",
       "      <td>0.009030</td>\n",
       "      <td>0.151157</td>\n",
       "      <td>0.839814</td>\n",
       "      <td>OR</td>\n",
       "      <td>realli like sneaker   moder arch support firm ...</td>\n",
       "    </tr>\n",
       "    <tr>\n",
       "      <th>18</th>\n",
       "      <td>19</td>\n",
       "      <td>0.000</td>\n",
       "      <td>0.325</td>\n",
       "      <td>0.675</td>\n",
       "      <td>0.8519</td>\n",
       "      <td>0.001788</td>\n",
       "      <td>0.017327</td>\n",
       "      <td>0.980884</td>\n",
       "      <td>OR</td>\n",
       "      <td>love  look great easi instal instal</td>\n",
       "    </tr>\n",
       "    <tr>\n",
       "      <th>19</th>\n",
       "      <td>20</td>\n",
       "      <td>0.000</td>\n",
       "      <td>0.748</td>\n",
       "      <td>0.252</td>\n",
       "      <td>0.5719</td>\n",
       "      <td>0.086627</td>\n",
       "      <td>0.356197</td>\n",
       "      <td>0.557176</td>\n",
       "      <td>CG</td>\n",
       "      <td>perfect stori plot charact ect  couldnt put  m...</td>\n",
       "    </tr>\n",
       "    <tr>\n",
       "      <th>20</th>\n",
       "      <td>21</td>\n",
       "      <td>0.000</td>\n",
       "      <td>0.588</td>\n",
       "      <td>0.412</td>\n",
       "      <td>0.6369</td>\n",
       "      <td>0.022658</td>\n",
       "      <td>0.201486</td>\n",
       "      <td>0.775856</td>\n",
       "      <td>CG</td>\n",
       "      <td>one year still love one bathroom offic</td>\n",
       "    </tr>\n",
       "    <tr>\n",
       "      <th>21</th>\n",
       "      <td>22</td>\n",
       "      <td>0.072</td>\n",
       "      <td>0.639</td>\n",
       "      <td>0.289</td>\n",
       "      <td>0.8591</td>\n",
       "      <td>0.039579</td>\n",
       "      <td>0.210908</td>\n",
       "      <td>0.749513</td>\n",
       "      <td>CG</td>\n",
       "      <td>didnt know poni ear  expect tini voic  shes cu...</td>\n",
       "    </tr>\n",
       "    <tr>\n",
       "      <th>22</th>\n",
       "      <td>23</td>\n",
       "      <td>0.204</td>\n",
       "      <td>0.520</td>\n",
       "      <td>0.275</td>\n",
       "      <td>0.2263</td>\n",
       "      <td>0.008520</td>\n",
       "      <td>0.328567</td>\n",
       "      <td>0.662913</td>\n",
       "      <td>OR</td>\n",
       "      <td>top ador flatter love black white flower probl...</td>\n",
       "    </tr>\n",
       "    <tr>\n",
       "      <th>23</th>\n",
       "      <td>24</td>\n",
       "      <td>0.000</td>\n",
       "      <td>0.680</td>\n",
       "      <td>0.320</td>\n",
       "      <td>0.9538</td>\n",
       "      <td>0.013353</td>\n",
       "      <td>0.204247</td>\n",
       "      <td>0.782400</td>\n",
       "      <td>OR</td>\n",
       "      <td>pretti good product way better made luggabl lo...</td>\n",
       "    </tr>\n",
       "    <tr>\n",
       "      <th>24</th>\n",
       "      <td>25</td>\n",
       "      <td>0.000</td>\n",
       "      <td>0.684</td>\n",
       "      <td>0.316</td>\n",
       "      <td>0.9360</td>\n",
       "      <td>0.009776</td>\n",
       "      <td>0.211659</td>\n",
       "      <td>0.778565</td>\n",
       "      <td>CG</td>\n",
       "      <td>general plunkingbackpack purpos excel qualiti ...</td>\n",
       "    </tr>\n",
       "    <tr>\n",
       "      <th>25</th>\n",
       "      <td>26</td>\n",
       "      <td>0.000</td>\n",
       "      <td>1.000</td>\n",
       "      <td>0.000</td>\n",
       "      <td>0.0000</td>\n",
       "      <td>0.141140</td>\n",
       "      <td>0.811022</td>\n",
       "      <td>0.047838</td>\n",
       "      <td>OR</td>\n",
       "      <td>would hypothet fantast way burn incens work ho...</td>\n",
       "    </tr>\n",
       "    <tr>\n",
       "      <th>26</th>\n",
       "      <td>27</td>\n",
       "      <td>0.000</td>\n",
       "      <td>0.729</td>\n",
       "      <td>0.271</td>\n",
       "      <td>0.6908</td>\n",
       "      <td>0.082117</td>\n",
       "      <td>0.803044</td>\n",
       "      <td>0.114839</td>\n",
       "      <td>OR</td>\n",
       "      <td>read differ help bibl studi help differ member...</td>\n",
       "    </tr>\n",
       "    <tr>\n",
       "      <th>27</th>\n",
       "      <td>28</td>\n",
       "      <td>0.000</td>\n",
       "      <td>0.261</td>\n",
       "      <td>0.739</td>\n",
       "      <td>0.9517</td>\n",
       "      <td>0.002946</td>\n",
       "      <td>0.016093</td>\n",
       "      <td>0.980961</td>\n",
       "      <td>CG</td>\n",
       "      <td>great product high recommend seti love contain...</td>\n",
       "    </tr>\n",
       "    <tr>\n",
       "      <th>28</th>\n",
       "      <td>29</td>\n",
       "      <td>0.000</td>\n",
       "      <td>0.656</td>\n",
       "      <td>0.344</td>\n",
       "      <td>0.6369</td>\n",
       "      <td>0.019103</td>\n",
       "      <td>0.302530</td>\n",
       "      <td>0.678367</td>\n",
       "      <td>CG</td>\n",
       "      <td>love previous book seri one except given arc e...</td>\n",
       "    </tr>\n",
       "    <tr>\n",
       "      <th>29</th>\n",
       "      <td>30</td>\n",
       "      <td>0.000</td>\n",
       "      <td>1.000</td>\n",
       "      <td>0.000</td>\n",
       "      <td>0.0000</td>\n",
       "      <td>0.321221</td>\n",
       "      <td>0.653561</td>\n",
       "      <td>0.025218</td>\n",
       "      <td>CG</td>\n",
       "      <td>ive never use regular peg saw blade instruct l...</td>\n",
       "    </tr>\n",
       "  </tbody>\n",
       "</table>\n",
       "</div>"
      ],
      "text/plain": [
       "    id  vader_neg  vader_neu  vader_pos  vader_compound  roberta_neg  \\\n",
       "0    1      0.000      1.000      0.000          0.0000     0.068365   \n",
       "1    2      0.000      0.563      0.437          0.7351     0.006245   \n",
       "2    3      0.120      0.709      0.170          0.6249     0.161742   \n",
       "3    4      0.000      0.364      0.636          0.9325     0.003751   \n",
       "4    5      0.000      0.654      0.346          0.8155     0.010217   \n",
       "5    6      0.000      0.784      0.216          0.5106     0.334287   \n",
       "6    7      0.000      0.418      0.582          0.9821     0.003792   \n",
       "7    8      0.000      0.529      0.471          0.8271     0.008941   \n",
       "8    9      0.000      1.000      0.000          0.0000     0.099801   \n",
       "9   10      0.000      0.843      0.157          0.0772     0.049163   \n",
       "10  11      0.000      0.284      0.716          0.9274     0.002241   \n",
       "11  12      0.038      0.777      0.184          0.7958     0.047927   \n",
       "12  13      0.000      0.405      0.595          0.8316     0.004295   \n",
       "13  14      0.052      0.721      0.227          0.8402     0.013789   \n",
       "14  15      0.388      0.458      0.154         -0.4731     0.621931   \n",
       "15  16      0.000      1.000      0.000          0.0000     0.117147   \n",
       "16  17      0.000      0.492      0.508          0.7351     0.004954   \n",
       "17  18      0.038      0.555      0.407          0.9601     0.009030   \n",
       "18  19      0.000      0.325      0.675          0.8519     0.001788   \n",
       "19  20      0.000      0.748      0.252          0.5719     0.086627   \n",
       "20  21      0.000      0.588      0.412          0.6369     0.022658   \n",
       "21  22      0.072      0.639      0.289          0.8591     0.039579   \n",
       "22  23      0.204      0.520      0.275          0.2263     0.008520   \n",
       "23  24      0.000      0.680      0.320          0.9538     0.013353   \n",
       "24  25      0.000      0.684      0.316          0.9360     0.009776   \n",
       "25  26      0.000      1.000      0.000          0.0000     0.141140   \n",
       "26  27      0.000      0.729      0.271          0.6908     0.082117   \n",
       "27  28      0.000      0.261      0.739          0.9517     0.002946   \n",
       "28  29      0.000      0.656      0.344          0.6369     0.019103   \n",
       "29  30      0.000      1.000      0.000          0.0000     0.321221   \n",
       "\n",
       "    roberta_neu  roberta_pos label  \\\n",
       "0      0.876381     0.055254    OR   \n",
       "1      0.085218     0.908537    CG   \n",
       "2      0.775034     0.063223    OR   \n",
       "3      0.159528     0.836721    CG   \n",
       "4      0.079747     0.910036    OR   \n",
       "5      0.551771     0.113942    OR   \n",
       "6      0.017355     0.978853    CG   \n",
       "7      0.309537     0.681522    CG   \n",
       "8      0.826389     0.073810    OR   \n",
       "9      0.892427     0.058410    CG   \n",
       "10     0.028010     0.969749    CG   \n",
       "11     0.789536     0.162537    OR   \n",
       "12     0.085113     0.910592    CG   \n",
       "13     0.181066     0.805145    OR   \n",
       "14     0.310175     0.067894    OR   \n",
       "15     0.778461     0.104392    CG   \n",
       "16     0.115185     0.879861    CG   \n",
       "17     0.151157     0.839814    OR   \n",
       "18     0.017327     0.980884    OR   \n",
       "19     0.356197     0.557176    CG   \n",
       "20     0.201486     0.775856    CG   \n",
       "21     0.210908     0.749513    CG   \n",
       "22     0.328567     0.662913    OR   \n",
       "23     0.204247     0.782400    OR   \n",
       "24     0.211659     0.778565    CG   \n",
       "25     0.811022     0.047838    OR   \n",
       "26     0.803044     0.114839    OR   \n",
       "27     0.016093     0.980961    CG   \n",
       "28     0.302530     0.678367    CG   \n",
       "29     0.653561     0.025218    CG   \n",
       "\n",
       "                                                text_  \n",
       "0   product show schedul  box secur  charg quick t...  \n",
       "1   great deal well built set headphon  keep revie...  \n",
       "2   littl deeper addit plot examin aftermath extre...  \n",
       "3   one great potenti charact real strong femal le...  \n",
       "4   delight book read look book author didnt find ...  \n",
       "5   midnight couldnt put begin knew go happen didn...  \n",
       "6   product exact expect kid love  son love two to...  \n",
       "7    want filter would lightweight comfort travel ...  \n",
       "8   work advertis  use insul storag shed tend get ...  \n",
       "9              must anyon want tri new bat first time  \n",
       "10           yrs old daughter love love also love way  \n",
       "11  boot gift wife first put seem littl small reco...  \n",
       "12  grandkid love toy  piec sturdi piec fit well c...  \n",
       "13  first one work well decid pick anoth one  love...  \n",
       "14  almost useless  lot lag time  smart phone app ...  \n",
       "15             studi piec  wooden part cup coupl year  \n",
       "16  omg natur energi frequenc technolog  perfect f...  \n",
       "17  realli like sneaker   moder arch support firm ...  \n",
       "18               love  look great easi instal instal   \n",
       "19  perfect stori plot charact ect  couldnt put  m...  \n",
       "20             one year still love one bathroom offic  \n",
       "21  didnt know poni ear  expect tini voic  shes cu...  \n",
       "22  top ador flatter love black white flower probl...  \n",
       "23  pretti good product way better made luggabl lo...  \n",
       "24  general plunkingbackpack purpos excel qualiti ...  \n",
       "25  would hypothet fantast way burn incens work ho...  \n",
       "26  read differ help bibl studi help differ member...  \n",
       "27  great product high recommend seti love contain...  \n",
       "28  love previous book seri one except given arc e...  \n",
       "29  ive never use regular peg saw blade instruct l...  "
      ]
     },
     "execution_count": 35,
     "metadata": {},
     "output_type": "execute_result"
    }
   ],
   "source": [
    "vaders.head(30)"
   ]
  },
  {
   "cell_type": "code",
   "execution_count": 38,
   "id": "8fcbe9af",
   "metadata": {},
   "outputs": [
    {
     "data": {
      "text/html": [
       "<div>\n",
       "<style scoped>\n",
       "    .dataframe tbody tr th:only-of-type {\n",
       "        vertical-align: middle;\n",
       "    }\n",
       "\n",
       "    .dataframe tbody tr th {\n",
       "        vertical-align: top;\n",
       "    }\n",
       "\n",
       "    .dataframe thead th {\n",
       "        text-align: right;\n",
       "    }\n",
       "</style>\n",
       "<table border=\"1\" class=\"dataframe\">\n",
       "  <thead>\n",
       "    <tr style=\"text-align: right;\">\n",
       "      <th></th>\n",
       "      <th>id</th>\n",
       "      <th>vader_neg</th>\n",
       "      <th>vader_neu</th>\n",
       "      <th>vader_pos</th>\n",
       "      <th>vader_compound</th>\n",
       "      <th>roberta_neg</th>\n",
       "      <th>roberta_neu</th>\n",
       "      <th>roberta_pos</th>\n",
       "      <th>roberta_compound</th>\n",
       "      <th>label</th>\n",
       "      <th>text_</th>\n",
       "    </tr>\n",
       "  </thead>\n",
       "  <tbody>\n",
       "    <tr>\n",
       "      <th>0</th>\n",
       "      <td>1</td>\n",
       "      <td>0.00</td>\n",
       "      <td>1.000</td>\n",
       "      <td>0.000</td>\n",
       "      <td>0.0000</td>\n",
       "      <td>0.068365</td>\n",
       "      <td>0.876381</td>\n",
       "      <td>0.055254</td>\n",
       "      <td>-0.013111</td>\n",
       "      <td>OR</td>\n",
       "      <td>product show schedul  box secur  charg quick t...</td>\n",
       "    </tr>\n",
       "    <tr>\n",
       "      <th>1</th>\n",
       "      <td>2</td>\n",
       "      <td>0.00</td>\n",
       "      <td>0.563</td>\n",
       "      <td>0.437</td>\n",
       "      <td>0.7351</td>\n",
       "      <td>0.006245</td>\n",
       "      <td>0.085218</td>\n",
       "      <td>0.908537</td>\n",
       "      <td>0.902291</td>\n",
       "      <td>CG</td>\n",
       "      <td>great deal well built set headphon  keep revie...</td>\n",
       "    </tr>\n",
       "    <tr>\n",
       "      <th>2</th>\n",
       "      <td>3</td>\n",
       "      <td>0.12</td>\n",
       "      <td>0.709</td>\n",
       "      <td>0.170</td>\n",
       "      <td>0.6249</td>\n",
       "      <td>0.161742</td>\n",
       "      <td>0.775034</td>\n",
       "      <td>0.063223</td>\n",
       "      <td>-0.098519</td>\n",
       "      <td>OR</td>\n",
       "      <td>littl deeper addit plot examin aftermath extre...</td>\n",
       "    </tr>\n",
       "    <tr>\n",
       "      <th>3</th>\n",
       "      <td>4</td>\n",
       "      <td>0.00</td>\n",
       "      <td>0.364</td>\n",
       "      <td>0.636</td>\n",
       "      <td>0.9325</td>\n",
       "      <td>0.003751</td>\n",
       "      <td>0.159528</td>\n",
       "      <td>0.836721</td>\n",
       "      <td>0.832970</td>\n",
       "      <td>CG</td>\n",
       "      <td>one great potenti charact real strong femal le...</td>\n",
       "    </tr>\n",
       "    <tr>\n",
       "      <th>4</th>\n",
       "      <td>5</td>\n",
       "      <td>0.00</td>\n",
       "      <td>0.654</td>\n",
       "      <td>0.346</td>\n",
       "      <td>0.8155</td>\n",
       "      <td>0.010217</td>\n",
       "      <td>0.079747</td>\n",
       "      <td>0.910036</td>\n",
       "      <td>0.899820</td>\n",
       "      <td>OR</td>\n",
       "      <td>delight book read look book author didnt find ...</td>\n",
       "    </tr>\n",
       "    <tr>\n",
       "      <th>5</th>\n",
       "      <td>6</td>\n",
       "      <td>0.00</td>\n",
       "      <td>0.784</td>\n",
       "      <td>0.216</td>\n",
       "      <td>0.5106</td>\n",
       "      <td>0.334287</td>\n",
       "      <td>0.551771</td>\n",
       "      <td>0.113942</td>\n",
       "      <td>-0.220345</td>\n",
       "      <td>OR</td>\n",
       "      <td>midnight couldnt put begin knew go happen didn...</td>\n",
       "    </tr>\n",
       "    <tr>\n",
       "      <th>6</th>\n",
       "      <td>7</td>\n",
       "      <td>0.00</td>\n",
       "      <td>0.418</td>\n",
       "      <td>0.582</td>\n",
       "      <td>0.9821</td>\n",
       "      <td>0.003792</td>\n",
       "      <td>0.017355</td>\n",
       "      <td>0.978853</td>\n",
       "      <td>0.975061</td>\n",
       "      <td>CG</td>\n",
       "      <td>product exact expect kid love  son love two to...</td>\n",
       "    </tr>\n",
       "    <tr>\n",
       "      <th>7</th>\n",
       "      <td>8</td>\n",
       "      <td>0.00</td>\n",
       "      <td>0.529</td>\n",
       "      <td>0.471</td>\n",
       "      <td>0.8271</td>\n",
       "      <td>0.008941</td>\n",
       "      <td>0.309537</td>\n",
       "      <td>0.681522</td>\n",
       "      <td>0.672581</td>\n",
       "      <td>CG</td>\n",
       "      <td>want filter would lightweight comfort travel ...</td>\n",
       "    </tr>\n",
       "    <tr>\n",
       "      <th>8</th>\n",
       "      <td>9</td>\n",
       "      <td>0.00</td>\n",
       "      <td>1.000</td>\n",
       "      <td>0.000</td>\n",
       "      <td>0.0000</td>\n",
       "      <td>0.099801</td>\n",
       "      <td>0.826389</td>\n",
       "      <td>0.073810</td>\n",
       "      <td>-0.025992</td>\n",
       "      <td>OR</td>\n",
       "      <td>work advertis  use insul storag shed tend get ...</td>\n",
       "    </tr>\n",
       "    <tr>\n",
       "      <th>9</th>\n",
       "      <td>10</td>\n",
       "      <td>0.00</td>\n",
       "      <td>0.843</td>\n",
       "      <td>0.157</td>\n",
       "      <td>0.0772</td>\n",
       "      <td>0.049163</td>\n",
       "      <td>0.892427</td>\n",
       "      <td>0.058410</td>\n",
       "      <td>0.009248</td>\n",
       "      <td>CG</td>\n",
       "      <td>must anyon want tri new bat first time</td>\n",
       "    </tr>\n",
       "  </tbody>\n",
       "</table>\n",
       "</div>"
      ],
      "text/plain": [
       "   id  vader_neg  vader_neu  vader_pos  vader_compound  roberta_neg  \\\n",
       "0   1       0.00      1.000      0.000          0.0000     0.068365   \n",
       "1   2       0.00      0.563      0.437          0.7351     0.006245   \n",
       "2   3       0.12      0.709      0.170          0.6249     0.161742   \n",
       "3   4       0.00      0.364      0.636          0.9325     0.003751   \n",
       "4   5       0.00      0.654      0.346          0.8155     0.010217   \n",
       "5   6       0.00      0.784      0.216          0.5106     0.334287   \n",
       "6   7       0.00      0.418      0.582          0.9821     0.003792   \n",
       "7   8       0.00      0.529      0.471          0.8271     0.008941   \n",
       "8   9       0.00      1.000      0.000          0.0000     0.099801   \n",
       "9  10       0.00      0.843      0.157          0.0772     0.049163   \n",
       "\n",
       "   roberta_neu  roberta_pos  roberta_compound label  \\\n",
       "0     0.876381     0.055254         -0.013111    OR   \n",
       "1     0.085218     0.908537          0.902291    CG   \n",
       "2     0.775034     0.063223         -0.098519    OR   \n",
       "3     0.159528     0.836721          0.832970    CG   \n",
       "4     0.079747     0.910036          0.899820    OR   \n",
       "5     0.551771     0.113942         -0.220345    OR   \n",
       "6     0.017355     0.978853          0.975061    CG   \n",
       "7     0.309537     0.681522          0.672581    CG   \n",
       "8     0.826389     0.073810         -0.025992    OR   \n",
       "9     0.892427     0.058410          0.009248    CG   \n",
       "\n",
       "                                               text_  \n",
       "0  product show schedul  box secur  charg quick t...  \n",
       "1  great deal well built set headphon  keep revie...  \n",
       "2  littl deeper addit plot examin aftermath extre...  \n",
       "3  one great potenti charact real strong femal le...  \n",
       "4  delight book read look book author didnt find ...  \n",
       "5  midnight couldnt put begin knew go happen didn...  \n",
       "6  product exact expect kid love  son love two to...  \n",
       "7   want filter would lightweight comfort travel ...  \n",
       "8  work advertis  use insul storag shed tend get ...  \n",
       "9             must anyon want tri new bat first time  "
      ]
     },
     "execution_count": 38,
     "metadata": {},
     "output_type": "execute_result"
    }
   ],
   "source": [
    "vaders['roberta_compound'] = vaders.apply(lambda row: row['roberta_pos'] - row['roberta_neg'], axis=1)\n",
    "vaders = vaders[['id', 'vader_neg', 'vader_neu', 'vader_pos', 'vader_compound', 'roberta_neg', 'roberta_neu', 'roberta_pos', 'roberta_compound', 'label', 'text_']]\n",
    "vaders.head(10)"
   ]
  },
  {
   "cell_type": "code",
   "execution_count": 39,
   "id": "56decf31",
   "metadata": {},
   "outputs": [],
   "source": [
    "#for vader sentiment analysis\n",
    "x = vaders[\"roberta_compound\"]\n",
    "y = vaders[\"label\"]\n",
    "\n",
    "#for readability features\n",
    "# x = readability_data[['flesch_reading_ease', 'flesch_kincaid_grade', 'coleman_liau_index', 'automated_readability_index', 'smog_index', 'gunning_fog']]\n",
    "# y = readability_data['label']"
   ]
  },
  {
   "cell_type": "code",
   "execution_count": 40,
   "id": "2812f2a2",
   "metadata": {},
   "outputs": [],
   "source": [
    "x_train, x_test, y_train, y_test = train_test_split(x,y,test_size = .25)"
   ]
  },
  {
   "cell_type": "code",
   "execution_count": 41,
   "id": "45fcc652",
   "metadata": {},
   "outputs": [],
   "source": [
    "from sklearn.feature_extraction.text import TfidfVectorizer"
   ]
  },
  {
   "cell_type": "code",
   "execution_count": 42,
   "id": "3c2f5888",
   "metadata": {},
   "outputs": [],
   "source": [
    "#for Tfidf\n",
    "# vectorization = TfidfVectorizer()\n",
    "# xv_train = vectorization.fit_transform(x_train)\n",
    "# xv_test = vectorization.transform(x_test)\n",
    "\n",
    "#for sentiment analysis\n",
    "import numpy as np\n",
    "xv_train_np = np.array(x_train).reshape(-1, 1)\n",
    "xv_test_np = np.array(x_test).reshape(-1, 1)\n",
    "\n",
    "#for readability features\n",
    "# import numpy as np\n",
    "# xv_train_np = np.array(x_train)\n",
    "# xv_test_np = np.array(x_test)"
   ]
  },
  {
   "cell_type": "markdown",
   "id": "e196f504",
   "metadata": {},
   "source": [
    "Logistic Regression"
   ]
  },
  {
   "cell_type": "code",
   "execution_count": 43,
   "id": "7f298552",
   "metadata": {},
   "outputs": [],
   "source": [
    "from sklearn.linear_model import LogisticRegression"
   ]
  },
  {
   "cell_type": "code",
   "execution_count": 44,
   "id": "1e5098d8",
   "metadata": {},
   "outputs": [
    {
     "data": {
      "text/html": [
       "<style>#sk-container-id-1 {color: black;}#sk-container-id-1 pre{padding: 0;}#sk-container-id-1 div.sk-toggleable {background-color: white;}#sk-container-id-1 label.sk-toggleable__label {cursor: pointer;display: block;width: 100%;margin-bottom: 0;padding: 0.3em;box-sizing: border-box;text-align: center;}#sk-container-id-1 label.sk-toggleable__label-arrow:before {content: \"▸\";float: left;margin-right: 0.25em;color: #696969;}#sk-container-id-1 label.sk-toggleable__label-arrow:hover:before {color: black;}#sk-container-id-1 div.sk-estimator:hover label.sk-toggleable__label-arrow:before {color: black;}#sk-container-id-1 div.sk-toggleable__content {max-height: 0;max-width: 0;overflow: hidden;text-align: left;background-color: #f0f8ff;}#sk-container-id-1 div.sk-toggleable__content pre {margin: 0.2em;color: black;border-radius: 0.25em;background-color: #f0f8ff;}#sk-container-id-1 input.sk-toggleable__control:checked~div.sk-toggleable__content {max-height: 200px;max-width: 100%;overflow: auto;}#sk-container-id-1 input.sk-toggleable__control:checked~label.sk-toggleable__label-arrow:before {content: \"▾\";}#sk-container-id-1 div.sk-estimator input.sk-toggleable__control:checked~label.sk-toggleable__label {background-color: #d4ebff;}#sk-container-id-1 div.sk-label input.sk-toggleable__control:checked~label.sk-toggleable__label {background-color: #d4ebff;}#sk-container-id-1 input.sk-hidden--visually {border: 0;clip: rect(1px 1px 1px 1px);clip: rect(1px, 1px, 1px, 1px);height: 1px;margin: -1px;overflow: hidden;padding: 0;position: absolute;width: 1px;}#sk-container-id-1 div.sk-estimator {font-family: monospace;background-color: #f0f8ff;border: 1px dotted black;border-radius: 0.25em;box-sizing: border-box;margin-bottom: 0.5em;}#sk-container-id-1 div.sk-estimator:hover {background-color: #d4ebff;}#sk-container-id-1 div.sk-parallel-item::after {content: \"\";width: 100%;border-bottom: 1px solid gray;flex-grow: 1;}#sk-container-id-1 div.sk-label:hover label.sk-toggleable__label {background-color: #d4ebff;}#sk-container-id-1 div.sk-serial::before {content: \"\";position: absolute;border-left: 1px solid gray;box-sizing: border-box;top: 0;bottom: 0;left: 50%;z-index: 0;}#sk-container-id-1 div.sk-serial {display: flex;flex-direction: column;align-items: center;background-color: white;padding-right: 0.2em;padding-left: 0.2em;position: relative;}#sk-container-id-1 div.sk-item {position: relative;z-index: 1;}#sk-container-id-1 div.sk-parallel {display: flex;align-items: stretch;justify-content: center;background-color: white;position: relative;}#sk-container-id-1 div.sk-item::before, #sk-container-id-1 div.sk-parallel-item::before {content: \"\";position: absolute;border-left: 1px solid gray;box-sizing: border-box;top: 0;bottom: 0;left: 50%;z-index: -1;}#sk-container-id-1 div.sk-parallel-item {display: flex;flex-direction: column;z-index: 1;position: relative;background-color: white;}#sk-container-id-1 div.sk-parallel-item:first-child::after {align-self: flex-end;width: 50%;}#sk-container-id-1 div.sk-parallel-item:last-child::after {align-self: flex-start;width: 50%;}#sk-container-id-1 div.sk-parallel-item:only-child::after {width: 0;}#sk-container-id-1 div.sk-dashed-wrapped {border: 1px dashed gray;margin: 0 0.4em 0.5em 0.4em;box-sizing: border-box;padding-bottom: 0.4em;background-color: white;}#sk-container-id-1 div.sk-label label {font-family: monospace;font-weight: bold;display: inline-block;line-height: 1.2em;}#sk-container-id-1 div.sk-label-container {text-align: center;}#sk-container-id-1 div.sk-container {/* jupyter's `normalize.less` sets `[hidden] { display: none; }` but bootstrap.min.css set `[hidden] { display: none !important; }` so we also need the `!important` here to be able to override the default hidden behavior on the sphinx rendered scikit-learn.org. See: https://github.com/scikit-learn/scikit-learn/issues/21755 */display: inline-block !important;position: relative;}#sk-container-id-1 div.sk-text-repr-fallback {display: none;}</style><div id=\"sk-container-id-1\" class=\"sk-top-container\"><div class=\"sk-text-repr-fallback\"><pre>LogisticRegression()</pre><b>In a Jupyter environment, please rerun this cell to show the HTML representation or trust the notebook. <br />On GitHub, the HTML representation is unable to render, please try loading this page with nbviewer.org.</b></div><div class=\"sk-container\" hidden><div class=\"sk-item\"><div class=\"sk-estimator sk-toggleable\"><input class=\"sk-toggleable__control sk-hidden--visually\" id=\"sk-estimator-id-1\" type=\"checkbox\" checked><label for=\"sk-estimator-id-1\" class=\"sk-toggleable__label sk-toggleable__label-arrow\">LogisticRegression</label><div class=\"sk-toggleable__content\"><pre>LogisticRegression()</pre></div></div></div></div></div>"
      ],
      "text/plain": [
       "LogisticRegression()"
      ]
     },
     "execution_count": 44,
     "metadata": {},
     "output_type": "execute_result"
    }
   ],
   "source": [
    "LR = LogisticRegression()\n",
    "#LR.fit(xv_train, y_train)\n",
    "LR.fit(xv_train_np, y_train)"
   ]
  },
  {
   "cell_type": "code",
   "execution_count": 45,
   "id": "b391648a",
   "metadata": {},
   "outputs": [
    {
     "data": {
      "text/plain": [
       "0.5902970297029703"
      ]
     },
     "execution_count": 45,
     "metadata": {},
     "output_type": "execute_result"
    }
   ],
   "source": [
    "#LR.score(xv_test, y_test)\n",
    "LR.score(xv_test_np, y_test)"
   ]
  },
  {
   "cell_type": "code",
   "execution_count": 46,
   "id": "01347c7f",
   "metadata": {},
   "outputs": [],
   "source": [
    "#pred_LR = LR.predict(xv_test)\n",
    "pred_LR = LR.predict(xv_test_np)"
   ]
  },
  {
   "cell_type": "code",
   "execution_count": 47,
   "id": "9fe49e24",
   "metadata": {},
   "outputs": [
    {
     "data": {
      "text/plain": [
       "array([[6.04025798e-01],\n",
       "       [3.36326659e-04],\n",
       "       [9.23042695e-01],\n",
       "       ...,\n",
       "       [2.23727174e-01],\n",
       "       [6.81843735e-01],\n",
       "       [1.87588492e-01]])"
      ]
     },
     "execution_count": 47,
     "metadata": {},
     "output_type": "execute_result"
    }
   ],
   "source": [
    "xv_test_np"
   ]
  },
  {
   "cell_type": "code",
   "execution_count": 48,
   "id": "f6178c4e",
   "metadata": {},
   "outputs": [
    {
     "name": "stdout",
     "output_type": "stream",
     "text": [
      "              precision    recall  f1-score   support\n",
      "\n",
      "          CG       0.58      0.67      0.62      5051\n",
      "          OR       0.61      0.51      0.55      5049\n",
      "\n",
      "    accuracy                           0.59     10100\n",
      "   macro avg       0.59      0.59      0.59     10100\n",
      "weighted avg       0.59      0.59      0.59     10100\n",
      "\n"
     ]
    }
   ],
   "source": [
    "print(classification_report(y_test, pred_LR))"
   ]
  },
  {
   "cell_type": "code",
   "execution_count": 49,
   "id": "ea211a84",
   "metadata": {},
   "outputs": [
    {
     "data": {
      "image/png": "[encoded data removed]",
      "text/plain": [
       "<Figure size 800x600 with 1 Axes>"
      ]
     },
     "metadata": {},
     "output_type": "display_data"
    }
   ],
   "source": [
    "import matplotlib.pyplot as plt\n",
    "from sklearn.metrics import confusion_matrix\n",
    "import seaborn as sns\n",
    "\n",
    "# Assuming you have already trained the Naive Bayes classifier and made predictions\n",
    "\n",
    "# Calculate the confusion matrix\n",
    "cm = confusion_matrix(y_test, pred_LR)\n",
    "\n",
    "# Create a heatmap to visualize the confusion matrix\n",
    "plt.figure(figsize=(8, 6))\n",
    "sns.heatmap(cm, annot=True, fmt=\"d\", cmap=\"Blues\", cbar=False)\n",
    "plt.xlabel(\"Predicted Labels\")\n",
    "plt.ylabel(\"True Labels\")\n",
    "plt.title(\"Confusion Matrix for Logistic Regression Classifier\")\n",
    "plt.show()"
   ]
  },
  {
   "cell_type": "markdown",
   "id": "a0176527",
   "metadata": {},
   "source": [
    "Decision Tree Classification"
   ]
  },
  {
   "cell_type": "code",
   "execution_count": 50,
   "id": "2b1cf89b",
   "metadata": {},
   "outputs": [],
   "source": [
    "from sklearn.tree import DecisionTreeClassifier"
   ]
  },
  {
   "cell_type": "code",
   "execution_count": 51,
   "id": "f8896eb3",
   "metadata": {},
   "outputs": [
    {
     "data": {
      "text/html": [
       "<style>#sk-container-id-2 {color: black;}#sk-container-id-2 pre{padding: 0;}#sk-container-id-2 div.sk-toggleable {background-color: white;}#sk-container-id-2 label.sk-toggleable__label {cursor: pointer;display: block;width: 100%;margin-bottom: 0;padding: 0.3em;box-sizing: border-box;text-align: center;}#sk-container-id-2 label.sk-toggleable__label-arrow:before {content: \"▸\";float: left;margin-right: 0.25em;color: #696969;}#sk-container-id-2 label.sk-toggleable__label-arrow:hover:before {color: black;}#sk-container-id-2 div.sk-estimator:hover label.sk-toggleable__label-arrow:before {color: black;}#sk-container-id-2 div.sk-toggleable__content {max-height: 0;max-width: 0;overflow: hidden;text-align: left;background-color: #f0f8ff;}#sk-container-id-2 div.sk-toggleable__content pre {margin: 0.2em;color: black;border-radius: 0.25em;background-color: #f0f8ff;}#sk-container-id-2 input.sk-toggleable__control:checked~div.sk-toggleable__content {max-height: 200px;max-width: 100%;overflow: auto;}#sk-container-id-2 input.sk-toggleable__control:checked~label.sk-toggleable__label-arrow:before {content: \"▾\";}#sk-container-id-2 div.sk-estimator input.sk-toggleable__control:checked~label.sk-toggleable__label {background-color: #d4ebff;}#sk-container-id-2 div.sk-label input.sk-toggleable__control:checked~label.sk-toggleable__label {background-color: #d4ebff;}#sk-container-id-2 input.sk-hidden--visually {border: 0;clip: rect(1px 1px 1px 1px);clip: rect(1px, 1px, 1px, 1px);height: 1px;margin: -1px;overflow: hidden;padding: 0;position: absolute;width: 1px;}#sk-container-id-2 div.sk-estimator {font-family: monospace;background-color: #f0f8ff;border: 1px dotted black;border-radius: 0.25em;box-sizing: border-box;margin-bottom: 0.5em;}#sk-container-id-2 div.sk-estimator:hover {background-color: #d4ebff;}#sk-container-id-2 div.sk-parallel-item::after {content: \"\";width: 100%;border-bottom: 1px solid gray;flex-grow: 1;}#sk-container-id-2 div.sk-label:hover label.sk-toggleable__label {background-color: #d4ebff;}#sk-container-id-2 div.sk-serial::before {content: \"\";position: absolute;border-left: 1px solid gray;box-sizing: border-box;top: 0;bottom: 0;left: 50%;z-index: 0;}#sk-container-id-2 div.sk-serial {display: flex;flex-direction: column;align-items: center;background-color: white;padding-right: 0.2em;padding-left: 0.2em;position: relative;}#sk-container-id-2 div.sk-item {position: relative;z-index: 1;}#sk-container-id-2 div.sk-parallel {display: flex;align-items: stretch;justify-content: center;background-color: white;position: relative;}#sk-container-id-2 div.sk-item::before, #sk-container-id-2 div.sk-parallel-item::before {content: \"\";position: absolute;border-left: 1px solid gray;box-sizing: border-box;top: 0;bottom: 0;left: 50%;z-index: -1;}#sk-container-id-2 div.sk-parallel-item {display: flex;flex-direction: column;z-index: 1;position: relative;background-color: white;}#sk-container-id-2 div.sk-parallel-item:first-child::after {align-self: flex-end;width: 50%;}#sk-container-id-2 div.sk-parallel-item:last-child::after {align-self: flex-start;width: 50%;}#sk-container-id-2 div.sk-parallel-item:only-child::after {width: 0;}#sk-container-id-2 div.sk-dashed-wrapped {border: 1px dashed gray;margin: 0 0.4em 0.5em 0.4em;box-sizing: border-box;padding-bottom: 0.4em;background-color: white;}#sk-container-id-2 div.sk-label label {font-family: monospace;font-weight: bold;display: inline-block;line-height: 1.2em;}#sk-container-id-2 div.sk-label-container {text-align: center;}#sk-container-id-2 div.sk-container {/* jupyter's `normalize.less` sets `[hidden] { display: none; }` but bootstrap.min.css set `[hidden] { display: none !important; }` so we also need the `!important` here to be able to override the default hidden behavior on the sphinx rendered scikit-learn.org. See: https://github.com/scikit-learn/scikit-learn/issues/21755 */display: inline-block !important;position: relative;}#sk-container-id-2 div.sk-text-repr-fallback {display: none;}</style><div id=\"sk-container-id-2\" class=\"sk-top-container\"><div class=\"sk-text-repr-fallback\"><pre>DecisionTreeClassifier()</pre><b>In a Jupyter environment, please rerun this cell to show the HTML representation or trust the notebook. <br />On GitHub, the HTML representation is unable to render, please try loading this page with nbviewer.org.</b></div><div class=\"sk-container\" hidden><div class=\"sk-item\"><div class=\"sk-estimator sk-toggleable\"><input class=\"sk-toggleable__control sk-hidden--visually\" id=\"sk-estimator-id-2\" type=\"checkbox\" checked><label for=\"sk-estimator-id-2\" class=\"sk-toggleable__label sk-toggleable__label-arrow\">DecisionTreeClassifier</label><div class=\"sk-toggleable__content\"><pre>DecisionTreeClassifier()</pre></div></div></div></div></div>"
      ],
      "text/plain": [
       "DecisionTreeClassifier()"
      ]
     },
     "execution_count": 51,
     "metadata": {},
     "output_type": "execute_result"
    }
   ],
   "source": [
    "DT = DecisionTreeClassifier()\n",
    "#DT.fit(xv_train, y_train)\n",
    "DT.fit(xv_train_np, y_train)"
   ]
  },
  {
   "cell_type": "code",
   "execution_count": 52,
   "id": "f6f24285",
   "metadata": {},
   "outputs": [],
   "source": [
    "#pred_dt = DT.predict(xv_test)\n",
    "pred_dt = DT.predict(xv_test_np)"
   ]
  },
  {
   "cell_type": "code",
   "execution_count": 53,
   "id": "d6de9ee8",
   "metadata": {},
   "outputs": [
    {
     "data": {
      "text/plain": [
       "0.5261386138613862"
      ]
     },
     "execution_count": 53,
     "metadata": {},
     "output_type": "execute_result"
    }
   ],
   "source": [
    "#DT.score(xv_test, y_test)\n",
    "DT.score(xv_test_np, y_test)"
   ]
  },
  {
   "cell_type": "code",
   "execution_count": 54,
   "id": "2e614382",
   "metadata": {},
   "outputs": [
    {
     "name": "stdout",
     "output_type": "stream",
     "text": [
      "              precision    recall  f1-score   support\n",
      "\n",
      "          CG       0.53      0.53      0.53      5051\n",
      "          OR       0.53      0.53      0.53      5049\n",
      "\n",
      "    accuracy                           0.53     10100\n",
      "   macro avg       0.53      0.53      0.53     10100\n",
      "weighted avg       0.53      0.53      0.53     10100\n",
      "\n"
     ]
    }
   ],
   "source": [
    "print(classification_report(y_test, pred_dt))"
   ]
  },
  {
   "cell_type": "code",
   "execution_count": 55,
   "id": "b32c3fe5",
   "metadata": {},
   "outputs": [
    {
     "data": {
      "image/png": "[encoded data removed]",
      "text/plain": [
       "<Figure size 800x600 with 1 Axes>"
      ]
     },
     "metadata": {},
     "output_type": "display_data"
    }
   ],
   "source": [
    "import matplotlib.pyplot as plt\n",
    "from sklearn.metrics import confusion_matrix\n",
    "import seaborn as sns\n",
    "\n",
    "# Assuming you have already trained the Naive Bayes classifier and made predictions\n",
    "\n",
    "# Calculate the confusion matrix\n",
    "cm = confusion_matrix(y_test, pred_dt)\n",
    "\n",
    "# Create a heatmap to visualize the confusion matrix\n",
    "plt.figure(figsize=(8, 6))\n",
    "sns.heatmap(cm, annot=True, fmt=\"d\", cmap=\"Blues\", cbar=False)\n",
    "plt.xlabel(\"Predicted Labels\")\n",
    "plt.ylabel(\"True Labels\")\n",
    "plt.title(\"Confusion Matrix for Decision Tree Classifier\")\n",
    "plt.show()"
   ]
  },
  {
   "cell_type": "markdown",
   "id": "1112aab3",
   "metadata": {},
   "source": [
    "Random Forest Classifier"
   ]
  },
  {
   "cell_type": "code",
   "execution_count": 56,
   "id": "a8f965b6",
   "metadata": {},
   "outputs": [],
   "source": [
    "from sklearn.ensemble import RandomForestClassifier"
   ]
  },
  {
   "cell_type": "code",
   "execution_count": 57,
   "id": "adb42d41",
   "metadata": {},
   "outputs": [
    {
     "data": {
      "text/html": [
       "<style>#sk-container-id-3 {color: black;}#sk-container-id-3 pre{padding: 0;}#sk-container-id-3 div.sk-toggleable {background-color: white;}#sk-container-id-3 label.sk-toggleable__label {cursor: pointer;display: block;width: 100%;margin-bottom: 0;padding: 0.3em;box-sizing: border-box;text-align: center;}#sk-container-id-3 label.sk-toggleable__label-arrow:before {content: \"▸\";float: left;margin-right: 0.25em;color: #696969;}#sk-container-id-3 label.sk-toggleable__label-arrow:hover:before {color: black;}#sk-container-id-3 div.sk-estimator:hover label.sk-toggleable__label-arrow:before {color: black;}#sk-container-id-3 div.sk-toggleable__content {max-height: 0;max-width: 0;overflow: hidden;text-align: left;background-color: #f0f8ff;}#sk-container-id-3 div.sk-toggleable__content pre {margin: 0.2em;color: black;border-radius: 0.25em;background-color: #f0f8ff;}#sk-container-id-3 input.sk-toggleable__control:checked~div.sk-toggleable__content {max-height: 200px;max-width: 100%;overflow: auto;}#sk-container-id-3 input.sk-toggleable__control:checked~label.sk-toggleable__label-arrow:before {content: \"▾\";}#sk-container-id-3 div.sk-estimator input.sk-toggleable__control:checked~label.sk-toggleable__label {background-color: #d4ebff;}#sk-container-id-3 div.sk-label input.sk-toggleable__control:checked~label.sk-toggleable__label {background-color: #d4ebff;}#sk-container-id-3 input.sk-hidden--visually {border: 0;clip: rect(1px 1px 1px 1px);clip: rect(1px, 1px, 1px, 1px);height: 1px;margin: -1px;overflow: hidden;padding: 0;position: absolute;width: 1px;}#sk-container-id-3 div.sk-estimator {font-family: monospace;background-color: #f0f8ff;border: 1px dotted black;border-radius: 0.25em;box-sizing: border-box;margin-bottom: 0.5em;}#sk-container-id-3 div.sk-estimator:hover {background-color: #d4ebff;}#sk-container-id-3 div.sk-parallel-item::after {content: \"\";width: 100%;border-bottom: 1px solid gray;flex-grow: 1;}#sk-container-id-3 div.sk-label:hover label.sk-toggleable__label {background-color: #d4ebff;}#sk-container-id-3 div.sk-serial::before {content: \"\";position: absolute;border-left: 1px solid gray;box-sizing: border-box;top: 0;bottom: 0;left: 50%;z-index: 0;}#sk-container-id-3 div.sk-serial {display: flex;flex-direction: column;align-items: center;background-color: white;padding-right: 0.2em;padding-left: 0.2em;position: relative;}#sk-container-id-3 div.sk-item {position: relative;z-index: 1;}#sk-container-id-3 div.sk-parallel {display: flex;align-items: stretch;justify-content: center;background-color: white;position: relative;}#sk-container-id-3 div.sk-item::before, #sk-container-id-3 div.sk-parallel-item::before {content: \"\";position: absolute;border-left: 1px solid gray;box-sizing: border-box;top: 0;bottom: 0;left: 50%;z-index: -1;}#sk-container-id-3 div.sk-parallel-item {display: flex;flex-direction: column;z-index: 1;position: relative;background-color: white;}#sk-container-id-3 div.sk-parallel-item:first-child::after {align-self: flex-end;width: 50%;}#sk-container-id-3 div.sk-parallel-item:last-child::after {align-self: flex-start;width: 50%;}#sk-container-id-3 div.sk-parallel-item:only-child::after {width: 0;}#sk-container-id-3 div.sk-dashed-wrapped {border: 1px dashed gray;margin: 0 0.4em 0.5em 0.4em;box-sizing: border-box;padding-bottom: 0.4em;background-color: white;}#sk-container-id-3 div.sk-label label {font-family: monospace;font-weight: bold;display: inline-block;line-height: 1.2em;}#sk-container-id-3 div.sk-label-container {text-align: center;}#sk-container-id-3 div.sk-container {/* jupyter's `normalize.less` sets `[hidden] { display: none; }` but bootstrap.min.css set `[hidden] { display: none !important; }` so we also need the `!important` here to be able to override the default hidden behavior on the sphinx rendered scikit-learn.org. See: https://github.com/scikit-learn/scikit-learn/issues/21755 */display: inline-block !important;position: relative;}#sk-container-id-3 div.sk-text-repr-fallback {display: none;}</style><div id=\"sk-container-id-3\" class=\"sk-top-container\"><div class=\"sk-text-repr-fallback\"><pre>RandomForestClassifier(random_state=0)</pre><b>In a Jupyter environment, please rerun this cell to show the HTML representation or trust the notebook. <br />On GitHub, the HTML representation is unable to render, please try loading this page with nbviewer.org.</b></div><div class=\"sk-container\" hidden><div class=\"sk-item\"><div class=\"sk-estimator sk-toggleable\"><input class=\"sk-toggleable__control sk-hidden--visually\" id=\"sk-estimator-id-3\" type=\"checkbox\" checked><label for=\"sk-estimator-id-3\" class=\"sk-toggleable__label sk-toggleable__label-arrow\">RandomForestClassifier</label><div class=\"sk-toggleable__content\"><pre>RandomForestClassifier(random_state=0)</pre></div></div></div></div></div>"
      ],
      "text/plain": [
       "RandomForestClassifier(random_state=0)"
      ]
     },
     "execution_count": 57,
     "metadata": {},
     "output_type": "execute_result"
    }
   ],
   "source": [
    "RFC = RandomForestClassifier(random_state=0)\n",
    "RFC.fit(xv_train_np, y_train)"
   ]
  },
  {
   "cell_type": "code",
   "execution_count": 58,
   "id": "8d6d758b",
   "metadata": {},
   "outputs": [],
   "source": [
    "pred_rfc = RFC.predict(xv_test_np)"
   ]
  },
  {
   "cell_type": "code",
   "execution_count": 59,
   "id": "d30894bd",
   "metadata": {},
   "outputs": [
    {
     "data": {
      "text/plain": [
       "0.5264356435643565"
      ]
     },
     "execution_count": 59,
     "metadata": {},
     "output_type": "execute_result"
    }
   ],
   "source": [
    "RFC.score(xv_test_np, y_test)"
   ]
  },
  {
   "cell_type": "code",
   "execution_count": 60,
   "id": "e284fb01",
   "metadata": {},
   "outputs": [
    {
     "name": "stdout",
     "output_type": "stream",
     "text": [
      "              precision    recall  f1-score   support\n",
      "\n",
      "          CG       0.53      0.52      0.53      5051\n",
      "          OR       0.53      0.53      0.53      5049\n",
      "\n",
      "    accuracy                           0.53     10100\n",
      "   macro avg       0.53      0.53      0.53     10100\n",
      "weighted avg       0.53      0.53      0.53     10100\n",
      "\n"
     ]
    }
   ],
   "source": [
    "print(classification_report(y_test, pred_rfc))"
   ]
  },
  {
   "cell_type": "code",
   "execution_count": 61,
   "id": "7cb7dce1",
   "metadata": {},
   "outputs": [
    {
     "data": {
      "image/png": "[encoded data removed]",
      "text/plain": [
       "<Figure size 800x600 with 1 Axes>"
      ]
     },
     "metadata": {},
     "output_type": "display_data"
    }
   ],
   "source": [
    "import matplotlib.pyplot as plt\n",
    "from sklearn.metrics import confusion_matrix\n",
    "import seaborn as sns\n",
    "\n",
    "# Assuming you have already trained the Naive Bayes classifier and made predictions\n",
    "\n",
    "# Calculate the confusion matrix\n",
    "cm = confusion_matrix(y_test, pred_rfc)\n",
    "\n",
    "# Create a heatmap to visualize the confusion matrix\n",
    "plt.figure(figsize=(8, 6))\n",
    "sns.heatmap(cm, annot=True, fmt=\"d\", cmap=\"Blues\", cbar=False)\n",
    "plt.xlabel(\"Predicted Labels\")\n",
    "plt.ylabel(\"True Labels\")\n",
    "plt.title(\"Confusion Matrix for Random Forest Classifier\")\n",
    "plt.show()"
   ]
  },
  {
   "cell_type": "markdown",
   "id": "9ad20774",
   "metadata": {},
   "source": [
    "Support Vector Machine Classifier"
   ]
  },
  {
   "cell_type": "code",
   "execution_count": 62,
   "id": "5b5d4cfb",
   "metadata": {},
   "outputs": [],
   "source": [
    "from sklearn.svm import SVC"
   ]
  },
  {
   "cell_type": "code",
   "execution_count": 63,
   "id": "54c87d62",
   "metadata": {},
   "outputs": [
    {
     "data": {
      "text/html": [
       "<style>#sk-container-id-4 {color: black;}#sk-container-id-4 pre{padding: 0;}#sk-container-id-4 div.sk-toggleable {background-color: white;}#sk-container-id-4 label.sk-toggleable__label {cursor: pointer;display: block;width: 100%;margin-bottom: 0;padding: 0.3em;box-sizing: border-box;text-align: center;}#sk-container-id-4 label.sk-toggleable__label-arrow:before {content: \"▸\";float: left;margin-right: 0.25em;color: #696969;}#sk-container-id-4 label.sk-toggleable__label-arrow:hover:before {color: black;}#sk-container-id-4 div.sk-estimator:hover label.sk-toggleable__label-arrow:before {color: black;}#sk-container-id-4 div.sk-toggleable__content {max-height: 0;max-width: 0;overflow: hidden;text-align: left;background-color: #f0f8ff;}#sk-container-id-4 div.sk-toggleable__content pre {margin: 0.2em;color: black;border-radius: 0.25em;background-color: #f0f8ff;}#sk-container-id-4 input.sk-toggleable__control:checked~div.sk-toggleable__content {max-height: 200px;max-width: 100%;overflow: auto;}#sk-container-id-4 input.sk-toggleable__control:checked~label.sk-toggleable__label-arrow:before {content: \"▾\";}#sk-container-id-4 div.sk-estimator input.sk-toggleable__control:checked~label.sk-toggleable__label {background-color: #d4ebff;}#sk-container-id-4 div.sk-label input.sk-toggleable__control:checked~label.sk-toggleable__label {background-color: #d4ebff;}#sk-container-id-4 input.sk-hidden--visually {border: 0;clip: rect(1px 1px 1px 1px);clip: rect(1px, 1px, 1px, 1px);height: 1px;margin: -1px;overflow: hidden;padding: 0;position: absolute;width: 1px;}#sk-container-id-4 div.sk-estimator {font-family: monospace;background-color: #f0f8ff;border: 1px dotted black;border-radius: 0.25em;box-sizing: border-box;margin-bottom: 0.5em;}#sk-container-id-4 div.sk-estimator:hover {background-color: #d4ebff;}#sk-container-id-4 div.sk-parallel-item::after {content: \"\";width: 100%;border-bottom: 1px solid gray;flex-grow: 1;}#sk-container-id-4 div.sk-label:hover label.sk-toggleable__label {background-color: #d4ebff;}#sk-container-id-4 div.sk-serial::before {content: \"\";position: absolute;border-left: 1px solid gray;box-sizing: border-box;top: 0;bottom: 0;left: 50%;z-index: 0;}#sk-container-id-4 div.sk-serial {display: flex;flex-direction: column;align-items: center;background-color: white;padding-right: 0.2em;padding-left: 0.2em;position: relative;}#sk-container-id-4 div.sk-item {position: relative;z-index: 1;}#sk-container-id-4 div.sk-parallel {display: flex;align-items: stretch;justify-content: center;background-color: white;position: relative;}#sk-container-id-4 div.sk-item::before, #sk-container-id-4 div.sk-parallel-item::before {content: \"\";position: absolute;border-left: 1px solid gray;box-sizing: border-box;top: 0;bottom: 0;left: 50%;z-index: -1;}#sk-container-id-4 div.sk-parallel-item {display: flex;flex-direction: column;z-index: 1;position: relative;background-color: white;}#sk-container-id-4 div.sk-parallel-item:first-child::after {align-self: flex-end;width: 50%;}#sk-container-id-4 div.sk-parallel-item:last-child::after {align-self: flex-start;width: 50%;}#sk-container-id-4 div.sk-parallel-item:only-child::after {width: 0;}#sk-container-id-4 div.sk-dashed-wrapped {border: 1px dashed gray;margin: 0 0.4em 0.5em 0.4em;box-sizing: border-box;padding-bottom: 0.4em;background-color: white;}#sk-container-id-4 div.sk-label label {font-family: monospace;font-weight: bold;display: inline-block;line-height: 1.2em;}#sk-container-id-4 div.sk-label-container {text-align: center;}#sk-container-id-4 div.sk-container {/* jupyter's `normalize.less` sets `[hidden] { display: none; }` but bootstrap.min.css set `[hidden] { display: none !important; }` so we also need the `!important` here to be able to override the default hidden behavior on the sphinx rendered scikit-learn.org. See: https://github.com/scikit-learn/scikit-learn/issues/21755 */display: inline-block !important;position: relative;}#sk-container-id-4 div.sk-text-repr-fallback {display: none;}</style><div id=\"sk-container-id-4\" class=\"sk-top-container\"><div class=\"sk-text-repr-fallback\"><pre>SVC(kernel=&#x27;linear&#x27;, random_state=0)</pre><b>In a Jupyter environment, please rerun this cell to show the HTML representation or trust the notebook. <br />On GitHub, the HTML representation is unable to render, please try loading this page with nbviewer.org.</b></div><div class=\"sk-container\" hidden><div class=\"sk-item\"><div class=\"sk-estimator sk-toggleable\"><input class=\"sk-toggleable__control sk-hidden--visually\" id=\"sk-estimator-id-4\" type=\"checkbox\" checked><label for=\"sk-estimator-id-4\" class=\"sk-toggleable__label sk-toggleable__label-arrow\">SVC</label><div class=\"sk-toggleable__content\"><pre>SVC(kernel=&#x27;linear&#x27;, random_state=0)</pre></div></div></div></div></div>"
      ],
      "text/plain": [
       "SVC(kernel='linear', random_state=0)"
      ]
     },
     "execution_count": 63,
     "metadata": {},
     "output_type": "execute_result"
    }
   ],
   "source": [
    "SVM = SVC(kernel='linear', random_state=0)\n",
    "SVM.fit(xv_train_np, y_train)"
   ]
  },
  {
   "cell_type": "code",
   "execution_count": 64,
   "id": "6d329fdc",
   "metadata": {},
   "outputs": [],
   "source": [
    "pred_svm = SVM.predict(xv_test_np)"
   ]
  },
  {
   "cell_type": "code",
   "execution_count": 65,
   "id": "cc56beed",
   "metadata": {},
   "outputs": [
    {
     "data": {
      "text/plain": [
       "0.5789108910891089"
      ]
     },
     "execution_count": 65,
     "metadata": {},
     "output_type": "execute_result"
    }
   ],
   "source": [
    "SVM.score(xv_test_np, y_test)"
   ]
  },
  {
   "cell_type": "code",
   "execution_count": 66,
   "id": "2f467ffa",
   "metadata": {},
   "outputs": [
    {
     "name": "stdout",
     "output_type": "stream",
     "text": [
      "              precision    recall  f1-score   support\n",
      "\n",
      "          CG       0.56      0.70      0.62      5051\n",
      "          OR       0.60      0.46      0.52      5049\n",
      "\n",
      "    accuracy                           0.58     10100\n",
      "   macro avg       0.58      0.58      0.57     10100\n",
      "weighted avg       0.58      0.58      0.57     10100\n",
      "\n"
     ]
    }
   ],
   "source": [
    "print(classification_report(y_test, pred_svm))"
   ]
  },
  {
   "cell_type": "code",
   "execution_count": 67,
   "id": "d22e2898",
   "metadata": {},
   "outputs": [
    {
     "data": {
      "image/png": "[encoded data removed]",
      "text/plain": [
       "<Figure size 800x600 with 1 Axes>"
      ]
     },
     "metadata": {},
     "output_type": "display_data"
    }
   ],
   "source": [
    "import matplotlib.pyplot as plt\n",
    "from sklearn.metrics import confusion_matrix\n",
    "import seaborn as sns\n",
    "\n",
    "# Assuming you have already trained the Naive Bayes classifier and made predictions\n",
    "\n",
    "# Calculate the confusion matrix\n",
    "cm = confusion_matrix(y_test, pred_svm)\n",
    "\n",
    "# Create a heatmap to visualize the confusion matrix\n",
    "plt.figure(figsize=(8, 6))\n",
    "sns.heatmap(cm, annot=True, fmt=\"d\", cmap=\"Blues\", cbar=False)\n",
    "plt.xlabel(\"Predicted Labels\")\n",
    "plt.ylabel(\"True Labels\")\n",
    "plt.title(\"Confusion Matrix for Support Vector Machine Classifier\")\n",
    "plt.show()"
   ]
  },
  {
   "cell_type": "markdown",
   "id": "9394c26d",
   "metadata": {},
   "source": [
    "k-Nearest Neighbors Classifier"
   ]
  },
  {
   "cell_type": "code",
   "execution_count": 68,
   "id": "92a15221",
   "metadata": {},
   "outputs": [],
   "source": [
    "from sklearn.neighbors import KNeighborsClassifier"
   ]
  },
  {
   "cell_type": "code",
   "execution_count": 69,
   "id": "4f317fe4",
   "metadata": {},
   "outputs": [
    {
     "data": {
      "text/html": [
       "<style>#sk-container-id-5 {color: black;}#sk-container-id-5 pre{padding: 0;}#sk-container-id-5 div.sk-toggleable {background-color: white;}#sk-container-id-5 label.sk-toggleable__label {cursor: pointer;display: block;width: 100%;margin-bottom: 0;padding: 0.3em;box-sizing: border-box;text-align: center;}#sk-container-id-5 label.sk-toggleable__label-arrow:before {content: \"▸\";float: left;margin-right: 0.25em;color: #696969;}#sk-container-id-5 label.sk-toggleable__label-arrow:hover:before {color: black;}#sk-container-id-5 div.sk-estimator:hover label.sk-toggleable__label-arrow:before {color: black;}#sk-container-id-5 div.sk-toggleable__content {max-height: 0;max-width: 0;overflow: hidden;text-align: left;background-color: #f0f8ff;}#sk-container-id-5 div.sk-toggleable__content pre {margin: 0.2em;color: black;border-radius: 0.25em;background-color: #f0f8ff;}#sk-container-id-5 input.sk-toggleable__control:checked~div.sk-toggleable__content {max-height: 200px;max-width: 100%;overflow: auto;}#sk-container-id-5 input.sk-toggleable__control:checked~label.sk-toggleable__label-arrow:before {content: \"▾\";}#sk-container-id-5 div.sk-estimator input.sk-toggleable__control:checked~label.sk-toggleable__label {background-color: #d4ebff;}#sk-container-id-5 div.sk-label input.sk-toggleable__control:checked~label.sk-toggleable__label {background-color: #d4ebff;}#sk-container-id-5 input.sk-hidden--visually {border: 0;clip: rect(1px 1px 1px 1px);clip: rect(1px, 1px, 1px, 1px);height: 1px;margin: -1px;overflow: hidden;padding: 0;position: absolute;width: 1px;}#sk-container-id-5 div.sk-estimator {font-family: monospace;background-color: #f0f8ff;border: 1px dotted black;border-radius: 0.25em;box-sizing: border-box;margin-bottom: 0.5em;}#sk-container-id-5 div.sk-estimator:hover {background-color: #d4ebff;}#sk-container-id-5 div.sk-parallel-item::after {content: \"\";width: 100%;border-bottom: 1px solid gray;flex-grow: 1;}#sk-container-id-5 div.sk-label:hover label.sk-toggleable__label {background-color: #d4ebff;}#sk-container-id-5 div.sk-serial::before {content: \"\";position: absolute;border-left: 1px solid gray;box-sizing: border-box;top: 0;bottom: 0;left: 50%;z-index: 0;}#sk-container-id-5 div.sk-serial {display: flex;flex-direction: column;align-items: center;background-color: white;padding-right: 0.2em;padding-left: 0.2em;position: relative;}#sk-container-id-5 div.sk-item {position: relative;z-index: 1;}#sk-container-id-5 div.sk-parallel {display: flex;align-items: stretch;justify-content: center;background-color: white;position: relative;}#sk-container-id-5 div.sk-item::before, #sk-container-id-5 div.sk-parallel-item::before {content: \"\";position: absolute;border-left: 1px solid gray;box-sizing: border-box;top: 0;bottom: 0;left: 50%;z-index: -1;}#sk-container-id-5 div.sk-parallel-item {display: flex;flex-direction: column;z-index: 1;position: relative;background-color: white;}#sk-container-id-5 div.sk-parallel-item:first-child::after {align-self: flex-end;width: 50%;}#sk-container-id-5 div.sk-parallel-item:last-child::after {align-self: flex-start;width: 50%;}#sk-container-id-5 div.sk-parallel-item:only-child::after {width: 0;}#sk-container-id-5 div.sk-dashed-wrapped {border: 1px dashed gray;margin: 0 0.4em 0.5em 0.4em;box-sizing: border-box;padding-bottom: 0.4em;background-color: white;}#sk-container-id-5 div.sk-label label {font-family: monospace;font-weight: bold;display: inline-block;line-height: 1.2em;}#sk-container-id-5 div.sk-label-container {text-align: center;}#sk-container-id-5 div.sk-container {/* jupyter's `normalize.less` sets `[hidden] { display: none; }` but bootstrap.min.css set `[hidden] { display: none !important; }` so we also need the `!important` here to be able to override the default hidden behavior on the sphinx rendered scikit-learn.org. See: https://github.com/scikit-learn/scikit-learn/issues/21755 */display: inline-block !important;position: relative;}#sk-container-id-5 div.sk-text-repr-fallback {display: none;}</style><div id=\"sk-container-id-5\" class=\"sk-top-container\"><div class=\"sk-text-repr-fallback\"><pre>KNeighborsClassifier()</pre><b>In a Jupyter environment, please rerun this cell to show the HTML representation or trust the notebook. <br />On GitHub, the HTML representation is unable to render, please try loading this page with nbviewer.org.</b></div><div class=\"sk-container\" hidden><div class=\"sk-item\"><div class=\"sk-estimator sk-toggleable\"><input class=\"sk-toggleable__control sk-hidden--visually\" id=\"sk-estimator-id-5\" type=\"checkbox\" checked><label for=\"sk-estimator-id-5\" class=\"sk-toggleable__label sk-toggleable__label-arrow\">KNeighborsClassifier</label><div class=\"sk-toggleable__content\"><pre>KNeighborsClassifier()</pre></div></div></div></div></div>"
      ],
      "text/plain": [
       "KNeighborsClassifier()"
      ]
     },
     "execution_count": 69,
     "metadata": {},
     "output_type": "execute_result"
    }
   ],
   "source": [
    "KNN = KNeighborsClassifier(n_neighbors=5)\n",
    "KNN.fit(xv_train_np, y_train)"
   ]
  },
  {
   "cell_type": "code",
   "execution_count": 70,
   "id": "f6bac818",
   "metadata": {},
   "outputs": [],
   "source": [
    "pred_knn = KNN.predict(xv_test_np)"
   ]
  },
  {
   "cell_type": "code",
   "execution_count": 71,
   "id": "7f1ee31f",
   "metadata": {},
   "outputs": [
    {
     "data": {
      "text/plain": [
       "0.5493069306930694"
      ]
     },
     "execution_count": 71,
     "metadata": {},
     "output_type": "execute_result"
    }
   ],
   "source": [
    "KNN.score(xv_test_np, y_test)"
   ]
  },
  {
   "cell_type": "code",
   "execution_count": 72,
   "id": "0def07bb",
   "metadata": {},
   "outputs": [
    {
     "name": "stdout",
     "output_type": "stream",
     "text": [
      "              precision    recall  f1-score   support\n",
      "\n",
      "          CG       0.55      0.56      0.55      5051\n",
      "          OR       0.55      0.54      0.55      5049\n",
      "\n",
      "    accuracy                           0.55     10100\n",
      "   macro avg       0.55      0.55      0.55     10100\n",
      "weighted avg       0.55      0.55      0.55     10100\n",
      "\n"
     ]
    }
   ],
   "source": [
    "print(classification_report(y_test, pred_knn))"
   ]
  },
  {
   "cell_type": "code",
   "execution_count": 73,
   "id": "c40ed794",
   "metadata": {},
   "outputs": [
    {
     "data": {
      "image/png": "[encoded data removed]",
      "text/plain": [
       "<Figure size 800x600 with 1 Axes>"
      ]
     },
     "metadata": {},
     "output_type": "display_data"
    }
   ],
   "source": [
    "import matplotlib.pyplot as plt\n",
    "from sklearn.metrics import confusion_matrix\n",
    "import seaborn as sns\n",
    "\n",
    "# Assuming you have already trained the Naive Bayes classifier and made predictions\n",
    "\n",
    "# Calculate the confusion matrix\n",
    "cm = confusion_matrix(y_test, pred_knn)\n",
    "\n",
    "# Create a heatmap to visualize the confusion matrix\n",
    "plt.figure(figsize=(8, 6))\n",
    "sns.heatmap(cm, annot=True, fmt=\"d\", cmap=\"Blues\", cbar=False)\n",
    "plt.xlabel(\"Predicted Labels\")\n",
    "plt.ylabel(\"True Labels\")\n",
    "plt.title(\"Confusion Matrix for k-Nearest Neighbors Classifier\")\n",
    "plt.show()"
   ]
  },
  {
   "cell_type": "markdown",
   "id": "e2b7dc2d",
   "metadata": {},
   "source": [
    "Naive Bayes Classifier"
   ]
  },
  {
   "cell_type": "code",
   "execution_count": 74,
   "id": "319a7dcb",
   "metadata": {},
   "outputs": [],
   "source": [
    "#from sklearn.naive_bayes import MultinomialNB\n",
    "from sklearn.naive_bayes import GaussianNB"
   ]
  },
  {
   "cell_type": "code",
   "execution_count": 75,
   "id": "f994dc70",
   "metadata": {},
   "outputs": [
    {
     "data": {
      "text/html": [
       "<style>#sk-container-id-6 {color: black;}#sk-container-id-6 pre{padding: 0;}#sk-container-id-6 div.sk-toggleable {background-color: white;}#sk-container-id-6 label.sk-toggleable__label {cursor: pointer;display: block;width: 100%;margin-bottom: 0;padding: 0.3em;box-sizing: border-box;text-align: center;}#sk-container-id-6 label.sk-toggleable__label-arrow:before {content: \"▸\";float: left;margin-right: 0.25em;color: #696969;}#sk-container-id-6 label.sk-toggleable__label-arrow:hover:before {color: black;}#sk-container-id-6 div.sk-estimator:hover label.sk-toggleable__label-arrow:before {color: black;}#sk-container-id-6 div.sk-toggleable__content {max-height: 0;max-width: 0;overflow: hidden;text-align: left;background-color: #f0f8ff;}#sk-container-id-6 div.sk-toggleable__content pre {margin: 0.2em;color: black;border-radius: 0.25em;background-color: #f0f8ff;}#sk-container-id-6 input.sk-toggleable__control:checked~div.sk-toggleable__content {max-height: 200px;max-width: 100%;overflow: auto;}#sk-container-id-6 input.sk-toggleable__control:checked~label.sk-toggleable__label-arrow:before {content: \"▾\";}#sk-container-id-6 div.sk-estimator input.sk-toggleable__control:checked~label.sk-toggleable__label {background-color: #d4ebff;}#sk-container-id-6 div.sk-label input.sk-toggleable__control:checked~label.sk-toggleable__label {background-color: #d4ebff;}#sk-container-id-6 input.sk-hidden--visually {border: 0;clip: rect(1px 1px 1px 1px);clip: rect(1px, 1px, 1px, 1px);height: 1px;margin: -1px;overflow: hidden;padding: 0;position: absolute;width: 1px;}#sk-container-id-6 div.sk-estimator {font-family: monospace;background-color: #f0f8ff;border: 1px dotted black;border-radius: 0.25em;box-sizing: border-box;margin-bottom: 0.5em;}#sk-container-id-6 div.sk-estimator:hover {background-color: #d4ebff;}#sk-container-id-6 div.sk-parallel-item::after {content: \"\";width: 100%;border-bottom: 1px solid gray;flex-grow: 1;}#sk-container-id-6 div.sk-label:hover label.sk-toggleable__label {background-color: #d4ebff;}#sk-container-id-6 div.sk-serial::before {content: \"\";position: absolute;border-left: 1px solid gray;box-sizing: border-box;top: 0;bottom: 0;left: 50%;z-index: 0;}#sk-container-id-6 div.sk-serial {display: flex;flex-direction: column;align-items: center;background-color: white;padding-right: 0.2em;padding-left: 0.2em;position: relative;}#sk-container-id-6 div.sk-item {position: relative;z-index: 1;}#sk-container-id-6 div.sk-parallel {display: flex;align-items: stretch;justify-content: center;background-color: white;position: relative;}#sk-container-id-6 div.sk-item::before, #sk-container-id-6 div.sk-parallel-item::before {content: \"\";position: absolute;border-left: 1px solid gray;box-sizing: border-box;top: 0;bottom: 0;left: 50%;z-index: -1;}#sk-container-id-6 div.sk-parallel-item {display: flex;flex-direction: column;z-index: 1;position: relative;background-color: white;}#sk-container-id-6 div.sk-parallel-item:first-child::after {align-self: flex-end;width: 50%;}#sk-container-id-6 div.sk-parallel-item:last-child::after {align-self: flex-start;width: 50%;}#sk-container-id-6 div.sk-parallel-item:only-child::after {width: 0;}#sk-container-id-6 div.sk-dashed-wrapped {border: 1px dashed gray;margin: 0 0.4em 0.5em 0.4em;box-sizing: border-box;padding-bottom: 0.4em;background-color: white;}#sk-container-id-6 div.sk-label label {font-family: monospace;font-weight: bold;display: inline-block;line-height: 1.2em;}#sk-container-id-6 div.sk-label-container {text-align: center;}#sk-container-id-6 div.sk-container {/* jupyter's `normalize.less` sets `[hidden] { display: none; }` but bootstrap.min.css set `[hidden] { display: none !important; }` so we also need the `!important` here to be able to override the default hidden behavior on the sphinx rendered scikit-learn.org. See: https://github.com/scikit-learn/scikit-learn/issues/21755 */display: inline-block !important;position: relative;}#sk-container-id-6 div.sk-text-repr-fallback {display: none;}</style><div id=\"sk-container-id-6\" class=\"sk-top-container\"><div class=\"sk-text-repr-fallback\"><pre>GaussianNB()</pre><b>In a Jupyter environment, please rerun this cell to show the HTML representation or trust the notebook. <br />On GitHub, the HTML representation is unable to render, please try loading this page with nbviewer.org.</b></div><div class=\"sk-container\" hidden><div class=\"sk-item\"><div class=\"sk-estimator sk-toggleable\"><input class=\"sk-toggleable__control sk-hidden--visually\" id=\"sk-estimator-id-6\" type=\"checkbox\" checked><label for=\"sk-estimator-id-6\" class=\"sk-toggleable__label sk-toggleable__label-arrow\">GaussianNB</label><div class=\"sk-toggleable__content\"><pre>GaussianNB()</pre></div></div></div></div></div>"
      ],
      "text/plain": [
       "GaussianNB()"
      ]
     },
     "execution_count": 75,
     "metadata": {},
     "output_type": "execute_result"
    }
   ],
   "source": [
    "# NB = MultinomialNB()\n",
    "# NB.fit(xv_train_np, y_train)\n",
    "NB = GaussianNB()\n",
    "NB.fit(xv_train_np, y_train)"
   ]
  },
  {
   "cell_type": "code",
   "execution_count": 76,
   "id": "22315eac",
   "metadata": {},
   "outputs": [],
   "source": [
    "pred_nb = NB.predict(xv_test_np)"
   ]
  },
  {
   "cell_type": "code",
   "execution_count": 77,
   "id": "f459826c",
   "metadata": {},
   "outputs": [
    {
     "data": {
      "text/plain": [
       "0.5865346534653465"
      ]
     },
     "execution_count": 77,
     "metadata": {},
     "output_type": "execute_result"
    }
   ],
   "source": [
    "NB.score(xv_test_np, y_test)"
   ]
  },
  {
   "cell_type": "code",
   "execution_count": 78,
   "id": "b0f666d6",
   "metadata": {},
   "outputs": [
    {
     "name": "stdout",
     "output_type": "stream",
     "text": [
      "              precision    recall  f1-score   support\n",
      "\n",
      "          CG       0.57      0.68      0.62      5051\n",
      "          OR       0.61      0.49      0.54      5049\n",
      "\n",
      "    accuracy                           0.59     10100\n",
      "   macro avg       0.59      0.59      0.58     10100\n",
      "weighted avg       0.59      0.59      0.58     10100\n",
      "\n"
     ]
    }
   ],
   "source": [
    "print(classification_report(y_test, pred_nb))"
   ]
  },
  {
   "cell_type": "code",
   "execution_count": 79,
   "id": "a2bf9b9b",
   "metadata": {},
   "outputs": [
    {
     "data": {
      "image/png": "[encoded data removed]",
      "text/plain": [
       "<Figure size 800x600 with 1 Axes>"
      ]
     },
     "metadata": {},
     "output_type": "display_data"
    }
   ],
   "source": [
    "import matplotlib.pyplot as plt\n",
    "from sklearn.metrics import confusion_matrix\n",
    "import seaborn as sns\n",
    "\n",
    "# Assuming you have already trained the Naive Bayes classifier and made predictions\n",
    "\n",
    "# Calculate the confusion matrix\n",
    "cm = confusion_matrix(y_test, pred_nb)\n",
    "\n",
    "# Create a heatmap to visualize the confusion matrix\n",
    "plt.figure(figsize=(8, 6))\n",
    "sns.heatmap(cm, annot=True, fmt=\"d\", cmap=\"Blues\", cbar=False)\n",
    "plt.xlabel(\"Predicted Labels\")\n",
    "plt.ylabel(\"True Labels\")\n",
    "plt.title(\"Confusion Matrix for Naive Bayes Classifier\")\n",
    "plt.show()"
   ]
  },
  {
   "cell_type": "code",
   "execution_count": null,
   "id": "a4c5801b",
   "metadata": {},
   "outputs": [],
   "source": [
    "# def output_lable(n):\n",
    "#     if n == 'CG':\n",
    "#         return \"Fake Review\"\n",
    "#     elif n == 'OR':\n",
    "#         return \"Not A Fake Review\"\n",
    "\n",
    "# def calculate_compound(scores_dict):\n",
    "    \n",
    "#     if 'roberta_neg' in scores_dict and 'roberta_neu' in scores_dict and 'roberta_pos' in scores_dict:\n",
    "#         roberta_neg = scores_dict['roberta_neg']\n",
    "#         roberta_neu = scores_dict['roberta_neu']\n",
    "#         roberta_pos = scores_dict['roberta_pos']\n",
    "\n",
    "#         # Calculate compound score\n",
    "#         compound = roberta_pos - roberta_neg\n",
    "\n",
    "#         return compound\n",
    "#     else:\n",
    "#         # Return a default value or handle the missing keys appropriately\n",
    "#         return 0.0\n",
    "\n",
    "# def manual_testing(review):\n",
    "#     testing_review = {\"text\":[review]}\n",
    "#     new_def_test = pd.DataFrame(testing_review)\n",
    "#     #for readability features\n",
    "# #     readability_features = new_def_test['text'].apply(compute_readability_features)\n",
    "# #     # Convert the features to a DataFrame\n",
    "# #     new_xv_test_array = pd.DataFrame(list(readability_features))\n",
    "    \n",
    "#     #for tfidf and sentiment analysis\n",
    "#     new_def_test[\"text\"] = new_def_test[\"text\"].apply(text_cleaning) \n",
    "#     new_x_test = new_def_test[\"text\"]\n",
    "#     #new_xv_test = vectorization.transform(new_x_test)\n",
    "    \n",
    "#     #vader\n",
    "#     #new_xv_test = new_x_test.apply(lambda x: sia.polarity_scores(x)['compound'])\n",
    "    \n",
    "#     #roberta\n",
    "#     scores_dict = new_x_test.apply(lambda x: polarity_scores_roberta(x))\n",
    "#     new_xv_test = calculate_compound(scores_dict)\n",
    "#     new_xv_test_array = np.array(new_xv_test).reshape(1, -1)\n",
    "\n",
    "#     pred_LR = LR.predict(new_xv_test_array)\n",
    "#     pred_DT = DT.predict(new_xv_test_array)\n",
    "#     pred_RFC = RFC.predict(new_xv_test_array)\n",
    "#     pred_SVM = SVM.predict(new_xv_test_array)\n",
    "#     pred_KNN = KNN.predict(new_xv_test_array)\n",
    "#     pred_NB = NB.predict(new_xv_test_array)\n",
    "#     return print(\"\\n\\nLR Prediction: {} \\nDT Prediction: {} \\nRFC Prediction: {} \\nSVM Prediction: {} \\nKNN Prediction: {} \\nNB Prediction: {} \".format(output_lable(pred_LR[0]), \n",
    "#                                                                                                               output_lable(pred_DT[0]),\n",
    "#                                                                                                               output_lable(pred_RFC[0]),\n",
    "#                                                                                                               output_lable(pred_SVM[0]),\n",
    "#                                                                                                               output_lable(pred_KNN[0]),output_lable(pred_NB[0])))\n",
    "\n",
    "\n",
    "\n",
    "\n",
    "\n",
    "import pandas as pd\n",
    "import numpy as np\n",
    "\n",
    "# Define emoji dictionary with sentiment scores\n",
    "emoji_dict = {\n",
    "    \"😍\": 0.678,\n",
    "    \"😭\": -0.093,\n",
    "    \"😘\": 0.701,\n",
    "    \"😊\": 0.644,\n",
    "    \"👌\": 0.563,\n",
    "    \"💕\": 0.632,\n",
    "    \"👏\": 0.520,\n",
    "    \"👍\": 0.521,\n",
    "    \"😩\": -0.368,\n",
    "    \"🙏\": 0.417,\n",
    "    \"🙌\": 0.559,\n",
    "    \"💪\": 0.555,\n",
    "    \"💖\": 0.712,\n",
    "    \"😒\": -0.374,\n",
    "    \"😔\": -0.146,\n",
    "    \"💗\": 0.657,\n",
    "    \"😡\": -0.173,\n",
    "    \"😎\": 0.491,\n",
    "    \"😢\": 0.007,\n",
    "    \"💞\": 0.739,\n",
    "    \"😤\": -0.209,\n",
    "    \"💩\": -0.116,\n",
    "    \"👎\": -0.224\n",
    "}\n",
    "\n",
    "def output_label(text_label, emoji_score):\n",
    "    \"\"\"Determine the output label based on text and emoji sentiment scores\"\"\"\n",
    "    if text_label == 'CG' and emoji_score > 0.5:\n",
    "        return \"Fake Review\"\n",
    "    elif text_label == 'OR' and emoji_score < 0.5:\n",
    "        return \"Fake Review\"\n",
    "    elif text_label == 'CG' or emoji_score > 0.5:\n",
    "        return \"Fake Review\"\n",
    "    else:\n",
    "        return \"Not A Fake Review\"\n",
    "\n",
    "def calculate_compound(scores_dict):\n",
    "    \"\"\"Calculate compound score from sentiment scores\"\"\"\n",
    "    if 'roberta_neg' in scores_dict and 'roberta_neu' in scores_dict and 'roberta_pos' in scores_dict:\n",
    "        roberta_neg = scores_dict['roberta_neg']\n",
    "        roberta_neu = scores_dict['roberta_neu']\n",
    "        roberta_pos = scores_dict['roberta_pos']\n",
    "\n",
    "        # Calculate compound score\n",
    "        compound = roberta_pos - roberta_neg\n",
    "\n",
    "        return compound\n",
    "    else:\n",
    "        # Return a default value or handle the missing keys appropriately\n",
    "        return 0.0\n",
    "\n",
    "def manual_testing(review):\n",
    "    \"\"\"Perform manual testing on the review\"\"\"\n",
    "    emojis = [char for char in review if char in emoji_dict]\n",
    "    text = ''.join([char for char in review if char not in emoji_dict])\n",
    "    \n",
    "    # Process text\n",
    "    testing_review = {\"text\": [text]}\n",
    "    new_def_test = pd.DataFrame(testing_review)\n",
    "    new_def_test[\"text\"] = new_def_test[\"text\"].apply(text_cleaning) \n",
    "    new_x_test = new_def_test[\"text\"]\n",
    "    scores_dict = new_x_test.apply(lambda x: polarity_scores_roberta(x))\n",
    "    new_xv_test = calculate_compound(scores_dict)\n",
    "    new_xv_test_array = np.array(new_xv_test).reshape(1, -1)\n",
    "\n",
    "    pred_LR = LR.predict(new_xv_test_array)\n",
    "    pred_DT = DT.predict(new_xv_test_array)\n",
    "    pred_RFC = RFC.predict(new_xv_test_array)\n",
    "    pred_SVM = SVM.predict(new_xv_test_array)\n",
    "    pred_KNN = KNN.predict(new_xv_test_array)\n",
    "    pred_NB = NB.predict(new_xv_test_array)\n",
    "    return print(\"\\n\\nLR Prediction: {} \\nDT Prediction: {} \\nRFC Prediction: {} \\nSVM Prediction: {} \\nKNN Prediction: {} \\nNB Prediction: {} \".format(output_lable(pred_LR[0]), \n",
    "                                                                                                              output_lable(pred_DT[0]),\n",
    "                                                                                                              output_lable(pred_RFC[0]),\n",
    "                                                                                                              output_lable(pred_SVM[0]),\n",
    "                                                                                                              output_lable(pred_KNN[0]),output_lable(pred_NB[0])))\n",
    "\n",
    "    \n",
    "    # Process emojis\n",
    "    emoji_scores = [emoji_dict.get(emoji, 0) for emoji in emojis]\n",
    "    emoji_score = np.mean(emoji_scores)\n",
    "    \n",
    "    # Determine output label\n",
    "    output_label_text = \"OR\" if text_compound_score >= 0 else \"CG\"\n",
    "    output_label_final = output_label(output_label_text, emoji_score)\n",
    "    \n",
    "    # Display results\n",
    "    if not emojis:\n",
    "        return print(\"\\n\\nLR Prediction: {} \\nDT Prediction: {} \\nRFC Prediction: {} \\nSVM Prediction: {} \\nKNN Prediction: {} \\nNB Prediction: {} \".format(output_lable(pred_LR[0]), \n",
    "                                                                                                              output_lable(pred_DT[0]),\n",
    "                                                                                                              output_lable(pred_RFC[0]),\n",
    "                                                                                                              output_lable(pred_SVM[0]),\n",
    "                                                                                                              output_lable(pred_KNN[0]),output_lable(pred_NB[0])))\n",
    "    else:\n",
    "        return print(\"Text Output: {}\\nEmoji Score: {}\\nFinal Output: {}\".format(output_lable(output_label_text), \n",
    "                                                                             emoji_score,\n",
    "                                                                             output_label_final))\n"
   ]
  },
  {
   "cell_type": "code",
   "execution_count": null,
   "id": "5cb4b442",
   "metadata": {
    "scrolled": false
   },
   "outputs": [],
   "source": [
    "review = input()\n",
    "manual_testing(review)"
   ]
  },
  {
   "cell_type": "code",
   "execution_count": null,
   "id": "2a561efd",
   "metadata": {},
   "outputs": [],
   "source": []
  },
  {
   "cell_type": "code",
   "execution_count": null,
   "id": "ae98214a",
   "metadata": {},
   "outputs": [],
   "source": []
  }
 ],
 "metadata": {
  "kernelspec": {
   "display_name": "Python 3 (ipykernel)",
   "language": "python",
   "name": "python3"
  },
  "language_info": {
   "codemirror_mode": {
    "name": "ipython",
    "version": 3
   },
   "file_extension": ".py",
   "mimetype": "text/x-python",
   "name": "python",
   "nbconvert_exporter": "python",
   "pygments_lexer": "ipython3",
   "version": "3.11.5"
  }
 },
 "nbformat": 4,
 "nbformat_minor": 5
}
